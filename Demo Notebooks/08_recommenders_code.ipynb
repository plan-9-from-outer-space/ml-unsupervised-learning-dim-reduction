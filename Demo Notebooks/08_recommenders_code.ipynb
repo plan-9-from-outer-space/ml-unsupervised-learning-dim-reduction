{
 "cells": [
  {
   "cell_type": "markdown",
   "id": "f4c466f6-3358-41b2-b652-8330bf9b2758",
   "metadata": {},
   "source": [
    "# Recommenders"
   ]
  },
  {
   "cell_type": "markdown",
   "id": "ce86e2ea-2d9f-449f-8c82-69c5aa87d12d",
   "metadata": {},
   "source": [
    "## 1. Content-Based Filtering"
   ]
  },
  {
   "cell_type": "markdown",
   "id": "47417411-e60a-4b56-a4f3-1c00876748c6",
   "metadata": {},
   "source": [
    "### a. Cosine Similarity with Sugar and Vitamin C"
   ]
  },
  {
   "cell_type": "code",
   "execution_count": 1,
   "id": "010facd7-d3e6-4862-a60b-62b45fa998d4",
   "metadata": {},
   "outputs": [
    {
     "data": {
      "text/html": [
       "<div>\n",
       "<style scoped>\n",
       "    .dataframe tbody tr th:only-of-type {\n",
       "        vertical-align: middle;\n",
       "    }\n",
       "\n",
       "    .dataframe tbody tr th {\n",
       "        vertical-align: top;\n",
       "    }\n",
       "\n",
       "    .dataframe thead th {\n",
       "        text-align: right;\n",
       "    }\n",
       "</style>\n",
       "<table border=\"1\" class=\"dataframe\">\n",
       "  <thead>\n",
       "    <tr style=\"text-align: right;\">\n",
       "      <th></th>\n",
       "      <th>fruit_100g</th>\n",
       "      <th>energy_kcal</th>\n",
       "      <th>water_g</th>\n",
       "      <th>protein_g</th>\n",
       "      <th>totalfat_g</th>\n",
       "      <th>fiber_g</th>\n",
       "      <th>sugars_g</th>\n",
       "      <th>vitaminc_mg</th>\n",
       "    </tr>\n",
       "  </thead>\n",
       "  <tbody>\n",
       "    <tr>\n",
       "      <th>0</th>\n",
       "      <td>Banana</td>\n",
       "      <td>89</td>\n",
       "      <td>74.9</td>\n",
       "      <td>1.09</td>\n",
       "      <td>0.33</td>\n",
       "      <td>2.6</td>\n",
       "      <td>12.20</td>\n",
       "      <td>8.7</td>\n",
       "    </tr>\n",
       "    <tr>\n",
       "      <th>1</th>\n",
       "      <td>Lemon</td>\n",
       "      <td>29</td>\n",
       "      <td>89.0</td>\n",
       "      <td>1.10</td>\n",
       "      <td>0.30</td>\n",
       "      <td>2.8</td>\n",
       "      <td>2.50</td>\n",
       "      <td>53.0</td>\n",
       "    </tr>\n",
       "    <tr>\n",
       "      <th>2</th>\n",
       "      <td>Lime</td>\n",
       "      <td>30</td>\n",
       "      <td>88.3</td>\n",
       "      <td>0.70</td>\n",
       "      <td>0.20</td>\n",
       "      <td>2.8</td>\n",
       "      <td>1.69</td>\n",
       "      <td>29.1</td>\n",
       "    </tr>\n",
       "    <tr>\n",
       "      <th>3</th>\n",
       "      <td>Mango</td>\n",
       "      <td>46</td>\n",
       "      <td>88.3</td>\n",
       "      <td>0.91</td>\n",
       "      <td>0.27</td>\n",
       "      <td>1.5</td>\n",
       "      <td>8.39</td>\n",
       "      <td>4.1</td>\n",
       "    </tr>\n",
       "    <tr>\n",
       "      <th>4</th>\n",
       "      <td>Peach</td>\n",
       "      <td>60</td>\n",
       "      <td>83.5</td>\n",
       "      <td>0.82</td>\n",
       "      <td>0.38</td>\n",
       "      <td>1.6</td>\n",
       "      <td>13.70</td>\n",
       "      <td>36.4</td>\n",
       "    </tr>\n",
       "    <tr>\n",
       "      <th>5</th>\n",
       "      <td>Pineapple</td>\n",
       "      <td>50</td>\n",
       "      <td>86.0</td>\n",
       "      <td>0.54</td>\n",
       "      <td>0.12</td>\n",
       "      <td>1.4</td>\n",
       "      <td>9.85</td>\n",
       "      <td>47.8</td>\n",
       "    </tr>\n",
       "  </tbody>\n",
       "</table>\n",
       "</div>"
      ],
      "text/plain": [
       "  fruit_100g  energy_kcal  water_g  protein_g  totalfat_g  fiber_g  sugars_g  \\\n",
       "0     Banana           89     74.9       1.09        0.33      2.6     12.20   \n",
       "1      Lemon           29     89.0       1.10        0.30      2.8      2.50   \n",
       "2       Lime           30     88.3       0.70        0.20      2.8      1.69   \n",
       "3      Mango           46     88.3       0.91        0.27      1.5      8.39   \n",
       "4      Peach           60     83.5       0.82        0.38      1.6     13.70   \n",
       "5  Pineapple           50     86.0       0.54        0.12      1.4      9.85   \n",
       "\n",
       "   vitaminc_mg  \n",
       "0          8.7  \n",
       "1         53.0  \n",
       "2         29.1  \n",
       "3          4.1  \n",
       "4         36.4  \n",
       "5         47.8  "
      ]
     },
     "execution_count": 1,
     "metadata": {},
     "output_type": "execute_result"
    }
   ],
   "source": [
    "# import data\n",
    "import pandas as pd\n",
    "\n",
    "fruit_nutrition = pd.read_csv('../Data/fruit_nutrition.csv')\n",
    "fruit_nutrition"
   ]
  },
  {
   "cell_type": "code",
   "execution_count": 2,
   "id": "75ab8ceb-cfba-4a55-b49a-838060c46e9d",
   "metadata": {},
   "outputs": [
    {
     "data": {
      "text/html": [
       "<div>\n",
       "<style scoped>\n",
       "    .dataframe tbody tr th:only-of-type {\n",
       "        vertical-align: middle;\n",
       "    }\n",
       "\n",
       "    .dataframe tbody tr th {\n",
       "        vertical-align: top;\n",
       "    }\n",
       "\n",
       "    .dataframe thead th {\n",
       "        text-align: right;\n",
       "    }\n",
       "</style>\n",
       "<table border=\"1\" class=\"dataframe\">\n",
       "  <thead>\n",
       "    <tr style=\"text-align: right;\">\n",
       "      <th></th>\n",
       "      <th>energy_kcal</th>\n",
       "      <th>water_g</th>\n",
       "      <th>protein_g</th>\n",
       "      <th>totalfat_g</th>\n",
       "      <th>fiber_g</th>\n",
       "      <th>sugars_g</th>\n",
       "      <th>vitaminc_mg</th>\n",
       "    </tr>\n",
       "  </thead>\n",
       "  <tbody>\n",
       "    <tr>\n",
       "      <th>Banana</th>\n",
       "      <td>89</td>\n",
       "      <td>74.9</td>\n",
       "      <td>1.09</td>\n",
       "      <td>0.33</td>\n",
       "      <td>2.6</td>\n",
       "      <td>12.20</td>\n",
       "      <td>8.7</td>\n",
       "    </tr>\n",
       "    <tr>\n",
       "      <th>Lemon</th>\n",
       "      <td>29</td>\n",
       "      <td>89.0</td>\n",
       "      <td>1.10</td>\n",
       "      <td>0.30</td>\n",
       "      <td>2.8</td>\n",
       "      <td>2.50</td>\n",
       "      <td>53.0</td>\n",
       "    </tr>\n",
       "    <tr>\n",
       "      <th>Lime</th>\n",
       "      <td>30</td>\n",
       "      <td>88.3</td>\n",
       "      <td>0.70</td>\n",
       "      <td>0.20</td>\n",
       "      <td>2.8</td>\n",
       "      <td>1.69</td>\n",
       "      <td>29.1</td>\n",
       "    </tr>\n",
       "    <tr>\n",
       "      <th>Mango</th>\n",
       "      <td>46</td>\n",
       "      <td>88.3</td>\n",
       "      <td>0.91</td>\n",
       "      <td>0.27</td>\n",
       "      <td>1.5</td>\n",
       "      <td>8.39</td>\n",
       "      <td>4.1</td>\n",
       "    </tr>\n",
       "    <tr>\n",
       "      <th>Peach</th>\n",
       "      <td>60</td>\n",
       "      <td>83.5</td>\n",
       "      <td>0.82</td>\n",
       "      <td>0.38</td>\n",
       "      <td>1.6</td>\n",
       "      <td>13.70</td>\n",
       "      <td>36.4</td>\n",
       "    </tr>\n",
       "    <tr>\n",
       "      <th>Pineapple</th>\n",
       "      <td>50</td>\n",
       "      <td>86.0</td>\n",
       "      <td>0.54</td>\n",
       "      <td>0.12</td>\n",
       "      <td>1.4</td>\n",
       "      <td>9.85</td>\n",
       "      <td>47.8</td>\n",
       "    </tr>\n",
       "  </tbody>\n",
       "</table>\n",
       "</div>"
      ],
      "text/plain": [
       "           energy_kcal  water_g  protein_g  totalfat_g  fiber_g  sugars_g  \\\n",
       "Banana              89     74.9       1.09        0.33      2.6     12.20   \n",
       "Lemon               29     89.0       1.10        0.30      2.8      2.50   \n",
       "Lime                30     88.3       0.70        0.20      2.8      1.69   \n",
       "Mango               46     88.3       0.91        0.27      1.5      8.39   \n",
       "Peach               60     83.5       0.82        0.38      1.6     13.70   \n",
       "Pineapple           50     86.0       0.54        0.12      1.4      9.85   \n",
       "\n",
       "           vitaminc_mg  \n",
       "Banana             8.7  \n",
       "Lemon             53.0  \n",
       "Lime              29.1  \n",
       "Mango              4.1  \n",
       "Peach             36.4  \n",
       "Pineapple         47.8  "
      ]
     },
     "execution_count": 2,
     "metadata": {},
     "output_type": "execute_result"
    }
   ],
   "source": [
    "# select only numeric columns and update the index\n",
    "nutrition = fruit_nutrition.set_index('fruit_100g')\n",
    "nutrition.index.name = None\n",
    "nutrition"
   ]
  },
  {
   "cell_type": "code",
   "execution_count": 3,
   "id": "2e3eb6ee-1182-4de6-a644-bbd89a300474",
   "metadata": {},
   "outputs": [
    {
     "data": {
      "text/html": [
       "<div>\n",
       "<style scoped>\n",
       "    .dataframe tbody tr th:only-of-type {\n",
       "        vertical-align: middle;\n",
       "    }\n",
       "\n",
       "    .dataframe tbody tr th {\n",
       "        vertical-align: top;\n",
       "    }\n",
       "\n",
       "    .dataframe thead th {\n",
       "        text-align: right;\n",
       "    }\n",
       "</style>\n",
       "<table border=\"1\" class=\"dataframe\">\n",
       "  <thead>\n",
       "    <tr style=\"text-align: right;\">\n",
       "      <th></th>\n",
       "      <th>sugars_g</th>\n",
       "      <th>vitaminc_mg</th>\n",
       "    </tr>\n",
       "  </thead>\n",
       "  <tbody>\n",
       "    <tr>\n",
       "      <th>Banana</th>\n",
       "      <td>12.20</td>\n",
       "      <td>8.7</td>\n",
       "    </tr>\n",
       "    <tr>\n",
       "      <th>Lemon</th>\n",
       "      <td>2.50</td>\n",
       "      <td>53.0</td>\n",
       "    </tr>\n",
       "    <tr>\n",
       "      <th>Lime</th>\n",
       "      <td>1.69</td>\n",
       "      <td>29.1</td>\n",
       "    </tr>\n",
       "    <tr>\n",
       "      <th>Mango</th>\n",
       "      <td>8.39</td>\n",
       "      <td>4.1</td>\n",
       "    </tr>\n",
       "    <tr>\n",
       "      <th>Peach</th>\n",
       "      <td>13.70</td>\n",
       "      <td>36.4</td>\n",
       "    </tr>\n",
       "    <tr>\n",
       "      <th>Pineapple</th>\n",
       "      <td>9.85</td>\n",
       "      <td>47.8</td>\n",
       "    </tr>\n",
       "  </tbody>\n",
       "</table>\n",
       "</div>"
      ],
      "text/plain": [
       "           sugars_g  vitaminc_mg\n",
       "Banana        12.20          8.7\n",
       "Lemon          2.50         53.0\n",
       "Lime           1.69         29.1\n",
       "Mango          8.39          4.1\n",
       "Peach         13.70         36.4\n",
       "Pineapple      9.85         47.8"
      ]
     },
     "execution_count": 3,
     "metadata": {},
     "output_type": "execute_result"
    }
   ],
   "source": [
    "# select just two columns\n",
    "df = nutrition.iloc[:, 5:]\n",
    "df"
   ]
  },
  {
   "cell_type": "code",
   "execution_count": 4,
   "id": "f86e3bd8-9244-4852-a3d0-086d70aafaec",
   "metadata": {},
   "outputs": [
    {
     "data": {
      "text/html": [
       "<div>\n",
       "<style scoped>\n",
       "    .dataframe tbody tr th:only-of-type {\n",
       "        vertical-align: middle;\n",
       "    }\n",
       "\n",
       "    .dataframe tbody tr th {\n",
       "        vertical-align: top;\n",
       "    }\n",
       "\n",
       "    .dataframe thead th {\n",
       "        text-align: right;\n",
       "    }\n",
       "</style>\n",
       "<table border=\"1\" class=\"dataframe\">\n",
       "  <thead>\n",
       "    <tr style=\"text-align: right;\">\n",
       "      <th></th>\n",
       "      <th>sugars_g</th>\n",
       "      <th>vitaminc_mg</th>\n",
       "    </tr>\n",
       "  </thead>\n",
       "  <tbody>\n",
       "    <tr>\n",
       "      <th>Mango</th>\n",
       "      <td>8.39</td>\n",
       "      <td>4.1</td>\n",
       "    </tr>\n",
       "    <tr>\n",
       "      <th>Banana</th>\n",
       "      <td>12.20</td>\n",
       "      <td>8.7</td>\n",
       "    </tr>\n",
       "  </tbody>\n",
       "</table>\n",
       "</div>"
      ],
      "text/plain": [
       "        sugars_g  vitaminc_mg\n",
       "Mango       8.39          4.1\n",
       "Banana     12.20          8.7"
      ]
     },
     "execution_count": 4,
     "metadata": {},
     "output_type": "execute_result"
    }
   ],
   "source": [
    "df.loc[['Mango', 'Banana']]"
   ]
  },
  {
   "cell_type": "code",
   "execution_count": 5,
   "id": "4771d1c2-b9a4-4fc4-9444-aca77b747cff",
   "metadata": {},
   "outputs": [
    {
     "data": {
      "text/plain": [
       "array([[1.       , 0.9864306],\n",
       "       [0.9864306, 1.       ]])"
      ]
     },
     "execution_count": 5,
     "metadata": {},
     "output_type": "execute_result"
    }
   ],
   "source": [
    "# calculate the cosine similarity between two fruits\n",
    "from sklearn.metrics.pairwise import cosine_similarity\n",
    "\n",
    "cosine_similarity(df.loc[['Mango', 'Banana']])   # matrix"
   ]
  },
  {
   "cell_type": "code",
   "execution_count": 6,
   "id": "78ef1570-e725-4a9c-b1f3-b98ab4fc43d7",
   "metadata": {},
   "outputs": [
    {
     "data": {
      "text/plain": [
       "0.9864305980007304"
      ]
     },
     "execution_count": 6,
     "metadata": {},
     "output_type": "execute_result"
    }
   ],
   "source": [
    "cosine_similarity(df.loc[['Mango', 'Banana']])[0][1]  # single value"
   ]
  },
  {
   "cell_type": "code",
   "execution_count": 7,
   "id": "79736bd5-56f1-4571-b345-12d03451a245",
   "metadata": {},
   "outputs": [],
   "source": [
    "# show each row of the array on one line\n",
    "import numpy as np\n",
    "\n",
    "# set linewidth to a large value to prevent wrapping\n",
    "np.set_printoptions(linewidth=np.inf)"
   ]
  },
  {
   "cell_type": "code",
   "execution_count": 8,
   "id": "31396227-0bb6-456c-b1ff-9a3a500cb30c",
   "metadata": {},
   "outputs": [
    {
     "data": {
      "text/plain": [
       "Index(['Banana', 'Lemon', 'Lime', 'Mango', 'Peach', 'Pineapple'], dtype='object')"
      ]
     },
     "metadata": {},
     "output_type": "display_data"
    },
    {
     "data": {
      "text/plain": [
       "array([[1.        , 0.61832414, 0.62683477, 0.9864306 , 0.83018982, 0.73298243],\n",
       "       [0.61832414, 1.        , 0.99994086, 0.48090193, 0.95146351, 0.98784307],\n",
       "       [0.62683477, 0.99994086, 1.        , 0.49040872, 0.95475426, 0.98947527],\n",
       "       [0.9864306 , 0.48090193, 0.49040872, 1.        , 0.72739811, 0.61135407],\n",
       "       [0.83018982, 0.95146351, 0.95475426, 0.72739811, 1.        , 0.98773952],\n",
       "       [0.73298243, 0.98784307, 0.98947527, 0.61135407, 0.98773952, 1.        ]])"
      ]
     },
     "execution_count": 8,
     "metadata": {},
     "output_type": "execute_result"
    }
   ],
   "source": [
    "# find all cosine similarities\n",
    "display(df.index)\n",
    "cosine_matrix = cosine_similarity(df)\n",
    "cosine_matrix"
   ]
  },
  {
   "cell_type": "code",
   "execution_count": 9,
   "id": "cc45ebf7-768d-48bb-9abc-b31674d36918",
   "metadata": {},
   "outputs": [
    {
     "data": {
      "text/html": [
       "<div>\n",
       "<style scoped>\n",
       "    .dataframe tbody tr th:only-of-type {\n",
       "        vertical-align: middle;\n",
       "    }\n",
       "\n",
       "    .dataframe tbody tr th {\n",
       "        vertical-align: top;\n",
       "    }\n",
       "\n",
       "    .dataframe thead th {\n",
       "        text-align: right;\n",
       "    }\n",
       "</style>\n",
       "<table border=\"1\" class=\"dataframe\">\n",
       "  <thead>\n",
       "    <tr style=\"text-align: right;\">\n",
       "      <th></th>\n",
       "      <th>Banana</th>\n",
       "      <th>Lemon</th>\n",
       "      <th>Lime</th>\n",
       "      <th>Mango</th>\n",
       "      <th>Peach</th>\n",
       "      <th>Pineapple</th>\n",
       "    </tr>\n",
       "  </thead>\n",
       "  <tbody>\n",
       "    <tr>\n",
       "      <th>Banana</th>\n",
       "      <td>1.000000</td>\n",
       "      <td>0.618324</td>\n",
       "      <td>0.626835</td>\n",
       "      <td>0.986431</td>\n",
       "      <td>0.830190</td>\n",
       "      <td>0.732982</td>\n",
       "    </tr>\n",
       "    <tr>\n",
       "      <th>Lemon</th>\n",
       "      <td>0.618324</td>\n",
       "      <td>1.000000</td>\n",
       "      <td>0.999941</td>\n",
       "      <td>0.480902</td>\n",
       "      <td>0.951464</td>\n",
       "      <td>0.987843</td>\n",
       "    </tr>\n",
       "    <tr>\n",
       "      <th>Lime</th>\n",
       "      <td>0.626835</td>\n",
       "      <td>0.999941</td>\n",
       "      <td>1.000000</td>\n",
       "      <td>0.490409</td>\n",
       "      <td>0.954754</td>\n",
       "      <td>0.989475</td>\n",
       "    </tr>\n",
       "    <tr>\n",
       "      <th>Mango</th>\n",
       "      <td>0.986431</td>\n",
       "      <td>0.480902</td>\n",
       "      <td>0.490409</td>\n",
       "      <td>1.000000</td>\n",
       "      <td>0.727398</td>\n",
       "      <td>0.611354</td>\n",
       "    </tr>\n",
       "    <tr>\n",
       "      <th>Peach</th>\n",
       "      <td>0.830190</td>\n",
       "      <td>0.951464</td>\n",
       "      <td>0.954754</td>\n",
       "      <td>0.727398</td>\n",
       "      <td>1.000000</td>\n",
       "      <td>0.987740</td>\n",
       "    </tr>\n",
       "    <tr>\n",
       "      <th>Pineapple</th>\n",
       "      <td>0.732982</td>\n",
       "      <td>0.987843</td>\n",
       "      <td>0.989475</td>\n",
       "      <td>0.611354</td>\n",
       "      <td>0.987740</td>\n",
       "      <td>1.000000</td>\n",
       "    </tr>\n",
       "  </tbody>\n",
       "</table>\n",
       "</div>"
      ],
      "text/plain": [
       "             Banana     Lemon      Lime     Mango     Peach  Pineapple\n",
       "Banana     1.000000  0.618324  0.626835  0.986431  0.830190   0.732982\n",
       "Lemon      0.618324  1.000000  0.999941  0.480902  0.951464   0.987843\n",
       "Lime       0.626835  0.999941  1.000000  0.490409  0.954754   0.989475\n",
       "Mango      0.986431  0.480902  0.490409  1.000000  0.727398   0.611354\n",
       "Peach      0.830190  0.951464  0.954754  0.727398  1.000000   0.987740\n",
       "Pineapple  0.732982  0.987843  0.989475  0.611354  0.987740   1.000000"
      ]
     },
     "execution_count": 9,
     "metadata": {},
     "output_type": "execute_result"
    }
   ],
   "source": [
    "# turn the array into a dataframe\n",
    "cosine_df = pd.DataFrame(cosine_matrix, index=df.index, columns=df.index)\n",
    "cosine_df"
   ]
  },
  {
   "cell_type": "markdown",
   "id": "30e8efee-0808-4cc3-accc-29e74a719daf",
   "metadata": {},
   "source": [
    "### b. Cosine Similarity with All Nutritional Values"
   ]
  },
  {
   "cell_type": "code",
   "execution_count": 10,
   "id": "93199f6b-02e9-4a3d-8707-d254293dffbe",
   "metadata": {},
   "outputs": [
    {
     "data": {
      "text/html": [
       "<div>\n",
       "<style scoped>\n",
       "    .dataframe tbody tr th:only-of-type {\n",
       "        vertical-align: middle;\n",
       "    }\n",
       "\n",
       "    .dataframe tbody tr th {\n",
       "        vertical-align: top;\n",
       "    }\n",
       "\n",
       "    .dataframe thead th {\n",
       "        text-align: right;\n",
       "    }\n",
       "</style>\n",
       "<table border=\"1\" class=\"dataframe\">\n",
       "  <thead>\n",
       "    <tr style=\"text-align: right;\">\n",
       "      <th></th>\n",
       "      <th>energy_kcal</th>\n",
       "      <th>water_g</th>\n",
       "      <th>protein_g</th>\n",
       "      <th>totalfat_g</th>\n",
       "      <th>fiber_g</th>\n",
       "      <th>sugars_g</th>\n",
       "      <th>vitaminc_mg</th>\n",
       "    </tr>\n",
       "  </thead>\n",
       "  <tbody>\n",
       "    <tr>\n",
       "      <th>Banana</th>\n",
       "      <td>89</td>\n",
       "      <td>74.9</td>\n",
       "      <td>1.09</td>\n",
       "      <td>0.33</td>\n",
       "      <td>2.6</td>\n",
       "      <td>12.20</td>\n",
       "      <td>8.7</td>\n",
       "    </tr>\n",
       "    <tr>\n",
       "      <th>Lemon</th>\n",
       "      <td>29</td>\n",
       "      <td>89.0</td>\n",
       "      <td>1.10</td>\n",
       "      <td>0.30</td>\n",
       "      <td>2.8</td>\n",
       "      <td>2.50</td>\n",
       "      <td>53.0</td>\n",
       "    </tr>\n",
       "    <tr>\n",
       "      <th>Lime</th>\n",
       "      <td>30</td>\n",
       "      <td>88.3</td>\n",
       "      <td>0.70</td>\n",
       "      <td>0.20</td>\n",
       "      <td>2.8</td>\n",
       "      <td>1.69</td>\n",
       "      <td>29.1</td>\n",
       "    </tr>\n",
       "    <tr>\n",
       "      <th>Mango</th>\n",
       "      <td>46</td>\n",
       "      <td>88.3</td>\n",
       "      <td>0.91</td>\n",
       "      <td>0.27</td>\n",
       "      <td>1.5</td>\n",
       "      <td>8.39</td>\n",
       "      <td>4.1</td>\n",
       "    </tr>\n",
       "    <tr>\n",
       "      <th>Peach</th>\n",
       "      <td>60</td>\n",
       "      <td>83.5</td>\n",
       "      <td>0.82</td>\n",
       "      <td>0.38</td>\n",
       "      <td>1.6</td>\n",
       "      <td>13.70</td>\n",
       "      <td>36.4</td>\n",
       "    </tr>\n",
       "    <tr>\n",
       "      <th>Pineapple</th>\n",
       "      <td>50</td>\n",
       "      <td>86.0</td>\n",
       "      <td>0.54</td>\n",
       "      <td>0.12</td>\n",
       "      <td>1.4</td>\n",
       "      <td>9.85</td>\n",
       "      <td>47.8</td>\n",
       "    </tr>\n",
       "  </tbody>\n",
       "</table>\n",
       "</div>"
      ],
      "text/plain": [
       "           energy_kcal  water_g  protein_g  totalfat_g  fiber_g  sugars_g  \\\n",
       "Banana              89     74.9       1.09        0.33      2.6     12.20   \n",
       "Lemon               29     89.0       1.10        0.30      2.8      2.50   \n",
       "Lime                30     88.3       0.70        0.20      2.8      1.69   \n",
       "Mango               46     88.3       0.91        0.27      1.5      8.39   \n",
       "Peach               60     83.5       0.82        0.38      1.6     13.70   \n",
       "Pineapple           50     86.0       0.54        0.12      1.4      9.85   \n",
       "\n",
       "           vitaminc_mg  \n",
       "Banana             8.7  \n",
       "Lemon             53.0  \n",
       "Lime              29.1  \n",
       "Mango              4.1  \n",
       "Peach             36.4  \n",
       "Pineapple         47.8  "
      ]
     },
     "execution_count": 10,
     "metadata": {},
     "output_type": "execute_result"
    }
   ],
   "source": [
    "# view original data\n",
    "nutrition"
   ]
  },
  {
   "cell_type": "code",
   "execution_count": 11,
   "id": "8e88ce51-9c8d-46b9-9647-639051546438",
   "metadata": {},
   "outputs": [
    {
     "data": {
      "text/plain": [
       "array([[1.        , 0.77186848, 0.83412488, 0.92474189, 0.93676783, 0.87931265],\n",
       "       [0.77186848, 1.        , 0.97739451, 0.87650678, 0.94133956, 0.9780653 ],\n",
       "       [0.83412488, 0.97739451, 1.        , 0.95282112, 0.95471941, 0.96986632],\n",
       "       [0.92474189, 0.87650678, 0.95282112, 1.        , 0.94580335, 0.91804609],\n",
       "       [0.93676783, 0.94133956, 0.95471941, 0.94580335, 1.        , 0.98972148],\n",
       "       [0.87931265, 0.9780653 , 0.96986632, 0.91804609, 0.98972148, 1.        ]])"
      ]
     },
     "execution_count": 11,
     "metadata": {},
     "output_type": "execute_result"
    }
   ],
   "source": [
    "# look at all 6 columns\n",
    "cosine_matrix_all = cosine_similarity(nutrition)\n",
    "cosine_matrix_all"
   ]
  },
  {
   "cell_type": "code",
   "execution_count": 12,
   "id": "389e909d-478c-4aa6-b0d5-68972ffd6e6f",
   "metadata": {},
   "outputs": [
    {
     "data": {
      "text/html": [
       "<div>\n",
       "<style scoped>\n",
       "    .dataframe tbody tr th:only-of-type {\n",
       "        vertical-align: middle;\n",
       "    }\n",
       "\n",
       "    .dataframe tbody tr th {\n",
       "        vertical-align: top;\n",
       "    }\n",
       "\n",
       "    .dataframe thead th {\n",
       "        text-align: right;\n",
       "    }\n",
       "</style>\n",
       "<table border=\"1\" class=\"dataframe\">\n",
       "  <thead>\n",
       "    <tr style=\"text-align: right;\">\n",
       "      <th></th>\n",
       "      <th>Banana</th>\n",
       "      <th>Lemon</th>\n",
       "      <th>Lime</th>\n",
       "      <th>Mango</th>\n",
       "      <th>Peach</th>\n",
       "      <th>Pineapple</th>\n",
       "    </tr>\n",
       "  </thead>\n",
       "  <tbody>\n",
       "    <tr>\n",
       "      <th>Banana</th>\n",
       "      <td>1.000000</td>\n",
       "      <td>0.771868</td>\n",
       "      <td>0.834125</td>\n",
       "      <td>0.924742</td>\n",
       "      <td>0.936768</td>\n",
       "      <td>0.879313</td>\n",
       "    </tr>\n",
       "    <tr>\n",
       "      <th>Lemon</th>\n",
       "      <td>0.771868</td>\n",
       "      <td>1.000000</td>\n",
       "      <td>0.977395</td>\n",
       "      <td>0.876507</td>\n",
       "      <td>0.941340</td>\n",
       "      <td>0.978065</td>\n",
       "    </tr>\n",
       "    <tr>\n",
       "      <th>Lime</th>\n",
       "      <td>0.834125</td>\n",
       "      <td>0.977395</td>\n",
       "      <td>1.000000</td>\n",
       "      <td>0.952821</td>\n",
       "      <td>0.954719</td>\n",
       "      <td>0.969866</td>\n",
       "    </tr>\n",
       "    <tr>\n",
       "      <th>Mango</th>\n",
       "      <td>0.924742</td>\n",
       "      <td>0.876507</td>\n",
       "      <td>0.952821</td>\n",
       "      <td>1.000000</td>\n",
       "      <td>0.945803</td>\n",
       "      <td>0.918046</td>\n",
       "    </tr>\n",
       "    <tr>\n",
       "      <th>Peach</th>\n",
       "      <td>0.936768</td>\n",
       "      <td>0.941340</td>\n",
       "      <td>0.954719</td>\n",
       "      <td>0.945803</td>\n",
       "      <td>1.000000</td>\n",
       "      <td>0.989721</td>\n",
       "    </tr>\n",
       "    <tr>\n",
       "      <th>Pineapple</th>\n",
       "      <td>0.879313</td>\n",
       "      <td>0.978065</td>\n",
       "      <td>0.969866</td>\n",
       "      <td>0.918046</td>\n",
       "      <td>0.989721</td>\n",
       "      <td>1.000000</td>\n",
       "    </tr>\n",
       "  </tbody>\n",
       "</table>\n",
       "</div>"
      ],
      "text/plain": [
       "             Banana     Lemon      Lime     Mango     Peach  Pineapple\n",
       "Banana     1.000000  0.771868  0.834125  0.924742  0.936768   0.879313\n",
       "Lemon      0.771868  1.000000  0.977395  0.876507  0.941340   0.978065\n",
       "Lime       0.834125  0.977395  1.000000  0.952821  0.954719   0.969866\n",
       "Mango      0.924742  0.876507  0.952821  1.000000  0.945803   0.918046\n",
       "Peach      0.936768  0.941340  0.954719  0.945803  1.000000   0.989721\n",
       "Pineapple  0.879313  0.978065  0.969866  0.918046  0.989721   1.000000"
      ]
     },
     "execution_count": 12,
     "metadata": {},
     "output_type": "execute_result"
    }
   ],
   "source": [
    "# turn it into a dataframe\n",
    "cosine_all_df = pd.DataFrame(cosine_matrix_all, index=nutrition.index, columns=nutrition.index)\n",
    "cosine_all_df"
   ]
  },
  {
   "cell_type": "code",
   "execution_count": 15,
   "id": "64dccaf6-f5ac-4636-a40d-e7ce17a81eff",
   "metadata": {},
   "outputs": [
    {
     "data": {
      "text/html": [
       "<div>\n",
       "<style scoped>\n",
       "    .dataframe tbody tr th:only-of-type {\n",
       "        vertical-align: middle;\n",
       "    }\n",
       "\n",
       "    .dataframe tbody tr th {\n",
       "        vertical-align: top;\n",
       "    }\n",
       "\n",
       "    .dataframe thead th {\n",
       "        text-align: right;\n",
       "    }\n",
       "</style>\n",
       "<table border=\"1\" class=\"dataframe\">\n",
       "  <thead>\n",
       "    <tr style=\"text-align: right;\">\n",
       "      <th></th>\n",
       "      <th>sugars_g</th>\n",
       "      <th>vitaminc_mg</th>\n",
       "    </tr>\n",
       "  </thead>\n",
       "  <tbody>\n",
       "    <tr>\n",
       "      <th>Banana</th>\n",
       "      <td>12.20</td>\n",
       "      <td>8.7</td>\n",
       "    </tr>\n",
       "    <tr>\n",
       "      <th>Lemon</th>\n",
       "      <td>2.50</td>\n",
       "      <td>53.0</td>\n",
       "    </tr>\n",
       "    <tr>\n",
       "      <th>Lime</th>\n",
       "      <td>1.69</td>\n",
       "      <td>29.1</td>\n",
       "    </tr>\n",
       "    <tr>\n",
       "      <th>Mango</th>\n",
       "      <td>8.39</td>\n",
       "      <td>4.1</td>\n",
       "    </tr>\n",
       "    <tr>\n",
       "      <th>Peach</th>\n",
       "      <td>13.70</td>\n",
       "      <td>36.4</td>\n",
       "    </tr>\n",
       "    <tr>\n",
       "      <th>Pineapple</th>\n",
       "      <td>9.85</td>\n",
       "      <td>47.8</td>\n",
       "    </tr>\n",
       "  </tbody>\n",
       "</table>\n",
       "</div>"
      ],
      "text/plain": [
       "           sugars_g  vitaminc_mg\n",
       "Banana        12.20          8.7\n",
       "Lemon          2.50         53.0\n",
       "Lime           1.69         29.1\n",
       "Mango          8.39          4.1\n",
       "Peach         13.70         36.4\n",
       "Pineapple      9.85         47.8"
      ]
     },
     "execution_count": 15,
     "metadata": {},
     "output_type": "execute_result"
    }
   ],
   "source": [
    "df"
   ]
  },
  {
   "cell_type": "code",
   "execution_count": 14,
   "id": "1c367de4-3ded-4499-808d-9b3756bf4184",
   "metadata": {},
   "outputs": [
    {
     "data": {
      "text/html": [
       "<div>\n",
       "<style scoped>\n",
       "    .dataframe tbody tr th:only-of-type {\n",
       "        vertical-align: middle;\n",
       "    }\n",
       "\n",
       "    .dataframe tbody tr th {\n",
       "        vertical-align: top;\n",
       "    }\n",
       "\n",
       "    .dataframe thead th {\n",
       "        text-align: right;\n",
       "    }\n",
       "</style>\n",
       "<table border=\"1\" class=\"dataframe\">\n",
       "  <thead>\n",
       "    <tr style=\"text-align: right;\">\n",
       "      <th></th>\n",
       "      <th>Banana</th>\n",
       "      <th>Lemon</th>\n",
       "      <th>Lime</th>\n",
       "      <th>Mango</th>\n",
       "      <th>Peach</th>\n",
       "      <th>Pineapple</th>\n",
       "    </tr>\n",
       "  </thead>\n",
       "  <tbody>\n",
       "    <tr>\n",
       "      <th>Banana</th>\n",
       "      <td>1.000000</td>\n",
       "      <td>0.618324</td>\n",
       "      <td>0.626835</td>\n",
       "      <td>0.986431</td>\n",
       "      <td>0.830190</td>\n",
       "      <td>0.732982</td>\n",
       "    </tr>\n",
       "    <tr>\n",
       "      <th>Lemon</th>\n",
       "      <td>0.618324</td>\n",
       "      <td>1.000000</td>\n",
       "      <td>0.999941</td>\n",
       "      <td>0.480902</td>\n",
       "      <td>0.951464</td>\n",
       "      <td>0.987843</td>\n",
       "    </tr>\n",
       "    <tr>\n",
       "      <th>Lime</th>\n",
       "      <td>0.626835</td>\n",
       "      <td>0.999941</td>\n",
       "      <td>1.000000</td>\n",
       "      <td>0.490409</td>\n",
       "      <td>0.954754</td>\n",
       "      <td>0.989475</td>\n",
       "    </tr>\n",
       "    <tr>\n",
       "      <th>Mango</th>\n",
       "      <td>0.986431</td>\n",
       "      <td>0.480902</td>\n",
       "      <td>0.490409</td>\n",
       "      <td>1.000000</td>\n",
       "      <td>0.727398</td>\n",
       "      <td>0.611354</td>\n",
       "    </tr>\n",
       "    <tr>\n",
       "      <th>Peach</th>\n",
       "      <td>0.830190</td>\n",
       "      <td>0.951464</td>\n",
       "      <td>0.954754</td>\n",
       "      <td>0.727398</td>\n",
       "      <td>1.000000</td>\n",
       "      <td>0.987740</td>\n",
       "    </tr>\n",
       "    <tr>\n",
       "      <th>Pineapple</th>\n",
       "      <td>0.732982</td>\n",
       "      <td>0.987843</td>\n",
       "      <td>0.989475</td>\n",
       "      <td>0.611354</td>\n",
       "      <td>0.987740</td>\n",
       "      <td>1.000000</td>\n",
       "    </tr>\n",
       "  </tbody>\n",
       "</table>\n",
       "</div>"
      ],
      "text/plain": [
       "             Banana     Lemon      Lime     Mango     Peach  Pineapple\n",
       "Banana     1.000000  0.618324  0.626835  0.986431  0.830190   0.732982\n",
       "Lemon      0.618324  1.000000  0.999941  0.480902  0.951464   0.987843\n",
       "Lime       0.626835  0.999941  1.000000  0.490409  0.954754   0.989475\n",
       "Mango      0.986431  0.480902  0.490409  1.000000  0.727398   0.611354\n",
       "Peach      0.830190  0.951464  0.954754  0.727398  1.000000   0.987740\n",
       "Pineapple  0.732982  0.987843  0.989475  0.611354  0.987740   1.000000"
      ]
     },
     "execution_count": 14,
     "metadata": {},
     "output_type": "execute_result"
    }
   ],
   "source": [
    "cosine_df"
   ]
  },
  {
   "cell_type": "markdown",
   "id": "fef76a68-f52c-4e17-8921-f6e07de6bb1a",
   "metadata": {},
   "source": [
    "### c. Make a Content-Based Filtering Recommendation"
   ]
  },
  {
   "cell_type": "code",
   "execution_count": 25,
   "id": "8740a37e-e894-46ca-a3d0-5699b689b8a2",
   "metadata": {},
   "outputs": [
    {
     "data": {
      "text/html": [
       "<div>\n",
       "<style scoped>\n",
       "    .dataframe tbody tr th:only-of-type {\n",
       "        vertical-align: middle;\n",
       "    }\n",
       "\n",
       "    .dataframe tbody tr th {\n",
       "        vertical-align: top;\n",
       "    }\n",
       "\n",
       "    .dataframe thead th {\n",
       "        text-align: right;\n",
       "    }\n",
       "</style>\n",
       "<table border=\"1\" class=\"dataframe\">\n",
       "  <thead>\n",
       "    <tr style=\"text-align: right;\">\n",
       "      <th></th>\n",
       "      <th>Mango</th>\n",
       "    </tr>\n",
       "  </thead>\n",
       "  <tbody>\n",
       "    <tr>\n",
       "      <th>Mango</th>\n",
       "      <td>1.000000</td>\n",
       "    </tr>\n",
       "    <tr>\n",
       "      <th>Banana</th>\n",
       "      <td>0.986431</td>\n",
       "    </tr>\n",
       "    <tr>\n",
       "      <th>Peach</th>\n",
       "      <td>0.727398</td>\n",
       "    </tr>\n",
       "    <tr>\n",
       "      <th>Pineapple</th>\n",
       "      <td>0.611354</td>\n",
       "    </tr>\n",
       "    <tr>\n",
       "      <th>Lime</th>\n",
       "      <td>0.490409</td>\n",
       "    </tr>\n",
       "    <tr>\n",
       "      <th>Lemon</th>\n",
       "      <td>0.480902</td>\n",
       "    </tr>\n",
       "  </tbody>\n",
       "</table>\n",
       "</div>"
      ],
      "text/plain": [
       "              Mango\n",
       "Mango      1.000000\n",
       "Banana     0.986431\n",
       "Peach      0.727398\n",
       "Pineapple  0.611354\n",
       "Lime       0.490409\n",
       "Lemon      0.480902"
      ]
     },
     "execution_count": 25,
     "metadata": {},
     "output_type": "execute_result"
    }
   ],
   "source": [
    "# if i like mangos, what other fruits might i like? -- using sugar and vitamin c only\n",
    "cosine_df[['Mango']].sort_values(by='Mango', ascending=False)"
   ]
  },
  {
   "cell_type": "code",
   "execution_count": 26,
   "id": "c8fe1ee0-395c-4ba8-bcb7-186a40d4db32",
   "metadata": {},
   "outputs": [
    {
     "data": {
      "text/html": [
       "<div>\n",
       "<style scoped>\n",
       "    .dataframe tbody tr th:only-of-type {\n",
       "        vertical-align: middle;\n",
       "    }\n",
       "\n",
       "    .dataframe tbody tr th {\n",
       "        vertical-align: top;\n",
       "    }\n",
       "\n",
       "    .dataframe thead th {\n",
       "        text-align: right;\n",
       "    }\n",
       "</style>\n",
       "<table border=\"1\" class=\"dataframe\">\n",
       "  <thead>\n",
       "    <tr style=\"text-align: right;\">\n",
       "      <th></th>\n",
       "      <th>Mango</th>\n",
       "    </tr>\n",
       "  </thead>\n",
       "  <tbody>\n",
       "    <tr>\n",
       "      <th>Mango</th>\n",
       "      <td>1.000000</td>\n",
       "    </tr>\n",
       "    <tr>\n",
       "      <th>Lime</th>\n",
       "      <td>0.952821</td>\n",
       "    </tr>\n",
       "    <tr>\n",
       "      <th>Peach</th>\n",
       "      <td>0.945803</td>\n",
       "    </tr>\n",
       "    <tr>\n",
       "      <th>Banana</th>\n",
       "      <td>0.924742</td>\n",
       "    </tr>\n",
       "    <tr>\n",
       "      <th>Pineapple</th>\n",
       "      <td>0.918046</td>\n",
       "    </tr>\n",
       "    <tr>\n",
       "      <th>Lemon</th>\n",
       "      <td>0.876507</td>\n",
       "    </tr>\n",
       "  </tbody>\n",
       "</table>\n",
       "</div>"
      ],
      "text/plain": [
       "              Mango\n",
       "Mango      1.000000\n",
       "Lime       0.952821\n",
       "Peach      0.945803\n",
       "Banana     0.924742\n",
       "Pineapple  0.918046\n",
       "Lemon      0.876507"
      ]
     },
     "execution_count": 26,
     "metadata": {},
     "output_type": "execute_result"
    }
   ],
   "source": [
    "# if i like mangos, what other fruits might i like? -- using all nutritional values\n",
    "cosine_all_df[['Mango']].sort_values(by='Mango', ascending=False)"
   ]
  },
  {
   "cell_type": "markdown",
   "id": "9745ba9b-bffe-448a-9265-9e6cc723ac39",
   "metadata": {},
   "source": [
    "### d. Function to Make Fruit Recommendations"
   ]
  },
  {
   "cell_type": "code",
   "execution_count": 27,
   "id": "a2acc196-c91c-46be-914b-0bdb71ac27b5",
   "metadata": {},
   "outputs": [],
   "source": [
    "# write a function to make fruit recommendations\n",
    "def recommend_fruits_based_on_liking (fruit_name, similarity_df):\n",
    "    \n",
    "    # check if the input fruit is in the DataFrame\n",
    "    if fruit_name not in df.index:\n",
    "        return f\"{fruit_name} is not found in the fruit list.\"\n",
    "    \n",
    "    # sort the specified column in descending order\n",
    "    sorted_column = similarity_df[[fruit_name]].sort_values(by=fruit_name, ascending=False)\n",
    "    \n",
    "    # display the result\n",
    "    return sorted_column"
   ]
  },
  {
   "cell_type": "code",
   "execution_count": 28,
   "id": "78cf3589-59b2-4938-8175-7434ad3267e4",
   "metadata": {},
   "outputs": [
    {
     "data": {
      "text/html": [
       "<div>\n",
       "<style scoped>\n",
       "    .dataframe tbody tr th:only-of-type {\n",
       "        vertical-align: middle;\n",
       "    }\n",
       "\n",
       "    .dataframe tbody tr th {\n",
       "        vertical-align: top;\n",
       "    }\n",
       "\n",
       "    .dataframe thead th {\n",
       "        text-align: right;\n",
       "    }\n",
       "</style>\n",
       "<table border=\"1\" class=\"dataframe\">\n",
       "  <thead>\n",
       "    <tr style=\"text-align: right;\">\n",
       "      <th></th>\n",
       "      <th>Mango</th>\n",
       "    </tr>\n",
       "  </thead>\n",
       "  <tbody>\n",
       "    <tr>\n",
       "      <th>Mango</th>\n",
       "      <td>1.000000</td>\n",
       "    </tr>\n",
       "    <tr>\n",
       "      <th>Banana</th>\n",
       "      <td>0.986431</td>\n",
       "    </tr>\n",
       "    <tr>\n",
       "      <th>Peach</th>\n",
       "      <td>0.727398</td>\n",
       "    </tr>\n",
       "    <tr>\n",
       "      <th>Pineapple</th>\n",
       "      <td>0.611354</td>\n",
       "    </tr>\n",
       "    <tr>\n",
       "      <th>Lime</th>\n",
       "      <td>0.490409</td>\n",
       "    </tr>\n",
       "    <tr>\n",
       "      <th>Lemon</th>\n",
       "      <td>0.480902</td>\n",
       "    </tr>\n",
       "  </tbody>\n",
       "</table>\n",
       "</div>"
      ],
      "text/plain": [
       "              Mango\n",
       "Mango      1.000000\n",
       "Banana     0.986431\n",
       "Peach      0.727398\n",
       "Pineapple  0.611354\n",
       "Lime       0.490409\n",
       "Lemon      0.480902"
      ]
     },
     "execution_count": 28,
     "metadata": {},
     "output_type": "execute_result"
    }
   ],
   "source": [
    "# example usage with mangos + sugar and vitamin c\n",
    "recommend_fruits_based_on_liking('Mango', cosine_df)"
   ]
  },
  {
   "cell_type": "code",
   "execution_count": 29,
   "id": "77315d35-3a13-452f-b7d4-91a05d9f8ac1",
   "metadata": {},
   "outputs": [
    {
     "data": {
      "text/html": [
       "<div>\n",
       "<style scoped>\n",
       "    .dataframe tbody tr th:only-of-type {\n",
       "        vertical-align: middle;\n",
       "    }\n",
       "\n",
       "    .dataframe tbody tr th {\n",
       "        vertical-align: top;\n",
       "    }\n",
       "\n",
       "    .dataframe thead th {\n",
       "        text-align: right;\n",
       "    }\n",
       "</style>\n",
       "<table border=\"1\" class=\"dataframe\">\n",
       "  <thead>\n",
       "    <tr style=\"text-align: right;\">\n",
       "      <th></th>\n",
       "      <th>Pineapple</th>\n",
       "    </tr>\n",
       "  </thead>\n",
       "  <tbody>\n",
       "    <tr>\n",
       "      <th>Pineapple</th>\n",
       "      <td>1.000000</td>\n",
       "    </tr>\n",
       "    <tr>\n",
       "      <th>Lime</th>\n",
       "      <td>0.989475</td>\n",
       "    </tr>\n",
       "    <tr>\n",
       "      <th>Lemon</th>\n",
       "      <td>0.987843</td>\n",
       "    </tr>\n",
       "    <tr>\n",
       "      <th>Peach</th>\n",
       "      <td>0.987740</td>\n",
       "    </tr>\n",
       "    <tr>\n",
       "      <th>Banana</th>\n",
       "      <td>0.732982</td>\n",
       "    </tr>\n",
       "    <tr>\n",
       "      <th>Mango</th>\n",
       "      <td>0.611354</td>\n",
       "    </tr>\n",
       "  </tbody>\n",
       "</table>\n",
       "</div>"
      ],
      "text/plain": [
       "           Pineapple\n",
       "Pineapple   1.000000\n",
       "Lime        0.989475\n",
       "Lemon       0.987843\n",
       "Peach       0.987740\n",
       "Banana      0.732982\n",
       "Mango       0.611354"
      ]
     },
     "execution_count": 29,
     "metadata": {},
     "output_type": "execute_result"
    }
   ],
   "source": [
    "# example usage with mangos + all nutritional values\n",
    "recommend_fruits_based_on_liking('Pineapple', cosine_df)"
   ]
  },
  {
   "cell_type": "code",
   "execution_count": 30,
   "id": "28d4299a-273b-4d67-9bd8-87b90cc73275",
   "metadata": {},
   "outputs": [
    {
     "data": {
      "text/plain": [
       "'Kiwi is not found in the fruit list.'"
      ]
     },
     "execution_count": 30,
     "metadata": {},
     "output_type": "execute_result"
    }
   ],
   "source": [
    "# error example\n",
    "recommend_fruits_based_on_liking('Kiwi', cosine_all_df)"
   ]
  },
  {
   "cell_type": "markdown",
   "id": "b86e642e-d55f-458b-abe6-a9338bf11450",
   "metadata": {},
   "source": [
    "## 2. Collaborative Filtering"
   ]
  },
  {
   "cell_type": "markdown",
   "id": "032f374d-f70c-4197-984c-ab38c9573fa8",
   "metadata": {},
   "source": [
    "### a. Data Prep: User-Item Matrix"
   ]
  },
  {
   "cell_type": "code",
   "execution_count": 31,
   "id": "38b8a35c-7e0a-4431-b569-63fb1f42672c",
   "metadata": {},
   "outputs": [
    {
     "data": {
      "text/html": [
       "<div>\n",
       "<style scoped>\n",
       "    .dataframe tbody tr th:only-of-type {\n",
       "        vertical-align: middle;\n",
       "    }\n",
       "\n",
       "    .dataframe tbody tr th {\n",
       "        vertical-align: top;\n",
       "    }\n",
       "\n",
       "    .dataframe thead th {\n",
       "        text-align: right;\n",
       "    }\n",
       "</style>\n",
       "<table border=\"1\" class=\"dataframe\">\n",
       "  <thead>\n",
       "    <tr style=\"text-align: right;\">\n",
       "      <th></th>\n",
       "      <th>User</th>\n",
       "      <th>Fruit</th>\n",
       "      <th>Rating</th>\n",
       "    </tr>\n",
       "  </thead>\n",
       "  <tbody>\n",
       "    <tr>\n",
       "      <th>0</th>\n",
       "      <td>user0</td>\n",
       "      <td>Lemon</td>\n",
       "      <td>4.3</td>\n",
       "    </tr>\n",
       "    <tr>\n",
       "      <th>1</th>\n",
       "      <td>user1</td>\n",
       "      <td>Lemon</td>\n",
       "      <td>4.6</td>\n",
       "    </tr>\n",
       "    <tr>\n",
       "      <th>2</th>\n",
       "      <td>user2</td>\n",
       "      <td>Lemon</td>\n",
       "      <td>4.2</td>\n",
       "    </tr>\n",
       "    <tr>\n",
       "      <th>3</th>\n",
       "      <td>user3</td>\n",
       "      <td>Lemon</td>\n",
       "      <td>4.4</td>\n",
       "    </tr>\n",
       "    <tr>\n",
       "      <th>4</th>\n",
       "      <td>user4</td>\n",
       "      <td>Lemon</td>\n",
       "      <td>4.1</td>\n",
       "    </tr>\n",
       "  </tbody>\n",
       "</table>\n",
       "</div>"
      ],
      "text/plain": [
       "    User  Fruit  Rating\n",
       "0  user0  Lemon     4.3\n",
       "1  user1  Lemon     4.6\n",
       "2  user2  Lemon     4.2\n",
       "3  user3  Lemon     4.4\n",
       "4  user4  Lemon     4.1"
      ]
     },
     "execution_count": 31,
     "metadata": {},
     "output_type": "execute_result"
    }
   ],
   "source": [
    "# read in the ratings data\n",
    "fruit_ratings = pd.read_csv('../Data/fruit_ratings.csv')\n",
    "fruit_ratings.head()"
   ]
  },
  {
   "cell_type": "code",
   "execution_count": 41,
   "id": "3bcd9bda-ccfd-4398-bbe9-b0887c27e488",
   "metadata": {},
   "outputs": [
    {
     "data": {
      "text/html": [
       "<div>\n",
       "<style scoped>\n",
       "    .dataframe tbody tr th:only-of-type {\n",
       "        vertical-align: middle;\n",
       "    }\n",
       "\n",
       "    .dataframe tbody tr th {\n",
       "        vertical-align: top;\n",
       "    }\n",
       "\n",
       "    .dataframe thead th {\n",
       "        text-align: right;\n",
       "    }\n",
       "</style>\n",
       "<table border=\"1\" class=\"dataframe\">\n",
       "  <thead>\n",
       "    <tr style=\"text-align: right;\">\n",
       "      <th>Fruit</th>\n",
       "      <th>Banana</th>\n",
       "      <th>Lemon</th>\n",
       "      <th>Lime</th>\n",
       "      <th>Mango</th>\n",
       "      <th>Peach</th>\n",
       "      <th>Pineapple</th>\n",
       "    </tr>\n",
       "    <tr>\n",
       "      <th>User</th>\n",
       "      <th></th>\n",
       "      <th></th>\n",
       "      <th></th>\n",
       "      <th></th>\n",
       "      <th></th>\n",
       "      <th></th>\n",
       "    </tr>\n",
       "  </thead>\n",
       "  <tbody>\n",
       "    <tr>\n",
       "      <th>user0</th>\n",
       "      <td>1.1</td>\n",
       "      <td>4.3</td>\n",
       "      <td>4.7</td>\n",
       "      <td>1.0</td>\n",
       "      <td>2.4</td>\n",
       "      <td>4.9</td>\n",
       "    </tr>\n",
       "    <tr>\n",
       "      <th>user1</th>\n",
       "      <td>1.2</td>\n",
       "      <td>4.6</td>\n",
       "      <td>4.5</td>\n",
       "      <td>1.3</td>\n",
       "      <td>2.1</td>\n",
       "      <td>4.8</td>\n",
       "    </tr>\n",
       "    <tr>\n",
       "      <th>user10</th>\n",
       "      <td>4.8</td>\n",
       "      <td>3.7</td>\n",
       "      <td>4.1</td>\n",
       "      <td>2.2</td>\n",
       "      <td>3.3</td>\n",
       "      <td>2.4</td>\n",
       "    </tr>\n",
       "    <tr>\n",
       "      <th>user11</th>\n",
       "      <td>2.5</td>\n",
       "      <td>2.9</td>\n",
       "      <td>3.7</td>\n",
       "      <td>4.1</td>\n",
       "      <td>1.8</td>\n",
       "      <td>4.1</td>\n",
       "    </tr>\n",
       "    <tr>\n",
       "      <th>user12</th>\n",
       "      <td>4.2</td>\n",
       "      <td>4.1</td>\n",
       "      <td>2.3</td>\n",
       "      <td>3.2</td>\n",
       "      <td>5.0</td>\n",
       "      <td>1.7</td>\n",
       "    </tr>\n",
       "    <tr>\n",
       "      <th>user13</th>\n",
       "      <td>3.7</td>\n",
       "      <td>1.8</td>\n",
       "      <td>1.4</td>\n",
       "      <td>4.9</td>\n",
       "      <td>4.4</td>\n",
       "      <td>3.2</td>\n",
       "    </tr>\n",
       "    <tr>\n",
       "      <th>user14</th>\n",
       "      <td>4.1</td>\n",
       "      <td>3.4</td>\n",
       "      <td>2.2</td>\n",
       "      <td>3.5</td>\n",
       "      <td>2.8</td>\n",
       "      <td>4.9</td>\n",
       "    </tr>\n",
       "    <tr>\n",
       "      <th>user15</th>\n",
       "      <td>4.8</td>\n",
       "      <td>2.5</td>\n",
       "      <td>3.1</td>\n",
       "      <td>2.6</td>\n",
       "      <td>3.2</td>\n",
       "      <td>1.6</td>\n",
       "    </tr>\n",
       "    <tr>\n",
       "      <th>user16</th>\n",
       "      <td>2.3</td>\n",
       "      <td>4.2</td>\n",
       "      <td>1.6</td>\n",
       "      <td>1.1</td>\n",
       "      <td>4.1</td>\n",
       "      <td>3.5</td>\n",
       "    </tr>\n",
       "    <tr>\n",
       "      <th>user17</th>\n",
       "      <td>3.1</td>\n",
       "      <td>1.3</td>\n",
       "      <td>4.9</td>\n",
       "      <td>4.2</td>\n",
       "      <td>1.7</td>\n",
       "      <td>4.5</td>\n",
       "    </tr>\n",
       "    <tr>\n",
       "      <th>user18</th>\n",
       "      <td>4.5</td>\n",
       "      <td>3.8</td>\n",
       "      <td>4.3</td>\n",
       "      <td>2.1</td>\n",
       "      <td>3.4</td>\n",
       "      <td>2.2</td>\n",
       "    </tr>\n",
       "    <tr>\n",
       "      <th>user19</th>\n",
       "      <td>3.5</td>\n",
       "      <td>4.8</td>\n",
       "      <td>NaN</td>\n",
       "      <td>3.1</td>\n",
       "      <td>3.4</td>\n",
       "      <td>3.2</td>\n",
       "    </tr>\n",
       "  </tbody>\n",
       "</table>\n",
       "</div>"
      ],
      "text/plain": [
       "Fruit   Banana  Lemon  Lime  Mango  Peach  Pineapple\n",
       "User                                                \n",
       "user0      1.1    4.3   4.7    1.0    2.4        4.9\n",
       "user1      1.2    4.6   4.5    1.3    2.1        4.8\n",
       "user10     4.8    3.7   4.1    2.2    3.3        2.4\n",
       "user11     2.5    2.9   3.7    4.1    1.8        4.1\n",
       "user12     4.2    4.1   2.3    3.2    5.0        1.7\n",
       "user13     3.7    1.8   1.4    4.9    4.4        3.2\n",
       "user14     4.1    3.4   2.2    3.5    2.8        4.9\n",
       "user15     4.8    2.5   3.1    2.6    3.2        1.6\n",
       "user16     2.3    4.2   1.6    1.1    4.1        3.5\n",
       "user17     3.1    1.3   4.9    4.2    1.7        4.5\n",
       "user18     4.5    3.8   4.3    2.1    3.4        2.2\n",
       "user19     3.5    4.8   NaN    3.1    3.4        3.2"
      ]
     },
     "execution_count": 41,
     "metadata": {},
     "output_type": "execute_result"
    }
   ],
   "source": [
    "# restructure the data into a user-item matrix\n",
    "X = fruit_ratings.pivot(index='User', columns='Fruit', values='Rating')\n",
    "X.head(12) # to see a NaN value"
   ]
  },
  {
   "cell_type": "code",
   "execution_count": 44,
   "id": "d9e148e6-a2fe-429b-b878-04f5d50b54e5",
   "metadata": {},
   "outputs": [
    {
     "data": {
      "text/plain": [
       "Fruit\n",
       "Banana       0\n",
       "Lemon        0\n",
       "Lime         1\n",
       "Mango        0\n",
       "Peach        0\n",
       "Pineapple    0\n",
       "dtype: int64"
      ]
     },
     "execution_count": 44,
     "metadata": {},
     "output_type": "execute_result"
    }
   ],
   "source": [
    "# which columns have null values\n",
    "X.isnull().sum()"
   ]
  },
  {
   "cell_type": "code",
   "execution_count": 43,
   "id": "33c99559-85c8-4775-8982-1691f2b30c25",
   "metadata": {},
   "outputs": [
    {
     "data": {
      "text/html": [
       "<div>\n",
       "<style scoped>\n",
       "    .dataframe tbody tr th:only-of-type {\n",
       "        vertical-align: middle;\n",
       "    }\n",
       "\n",
       "    .dataframe tbody tr th {\n",
       "        vertical-align: top;\n",
       "    }\n",
       "\n",
       "    .dataframe thead th {\n",
       "        text-align: right;\n",
       "    }\n",
       "</style>\n",
       "<table border=\"1\" class=\"dataframe\">\n",
       "  <thead>\n",
       "    <tr style=\"text-align: right;\">\n",
       "      <th>Fruit</th>\n",
       "      <th>Banana</th>\n",
       "      <th>Lemon</th>\n",
       "      <th>Lime</th>\n",
       "      <th>Mango</th>\n",
       "      <th>Peach</th>\n",
       "      <th>Pineapple</th>\n",
       "    </tr>\n",
       "    <tr>\n",
       "      <th>User</th>\n",
       "      <th></th>\n",
       "      <th></th>\n",
       "      <th></th>\n",
       "      <th></th>\n",
       "      <th></th>\n",
       "      <th></th>\n",
       "    </tr>\n",
       "  </thead>\n",
       "  <tbody>\n",
       "    <tr>\n",
       "      <th>user19</th>\n",
       "      <td>3.5</td>\n",
       "      <td>4.8</td>\n",
       "      <td>NaN</td>\n",
       "      <td>3.1</td>\n",
       "      <td>3.4</td>\n",
       "      <td>3.2</td>\n",
       "    </tr>\n",
       "  </tbody>\n",
       "</table>\n",
       "</div>"
      ],
      "text/plain": [
       "Fruit   Banana  Lemon  Lime  Mango  Peach  Pineapple\n",
       "User                                                \n",
       "user19     3.5    4.8   NaN    3.1    3.4        3.2"
      ]
     },
     "execution_count": 43,
     "metadata": {},
     "output_type": "execute_result"
    }
   ],
   "source": [
    "# identify nan values\n",
    "X[X.isna().any(axis=1)]"
   ]
  },
  {
   "cell_type": "code",
   "execution_count": 45,
   "id": "edb93e21-75c8-4054-aa78-f9423704ca92",
   "metadata": {},
   "outputs": [
    {
     "data": {
      "text/html": [
       "<div>\n",
       "<style scoped>\n",
       "    .dataframe tbody tr th:only-of-type {\n",
       "        vertical-align: middle;\n",
       "    }\n",
       "\n",
       "    .dataframe tbody tr th {\n",
       "        vertical-align: top;\n",
       "    }\n",
       "\n",
       "    .dataframe thead th {\n",
       "        text-align: right;\n",
       "    }\n",
       "</style>\n",
       "<table border=\"1\" class=\"dataframe\">\n",
       "  <thead>\n",
       "    <tr style=\"text-align: right;\">\n",
       "      <th></th>\n",
       "      <th>Rating</th>\n",
       "    </tr>\n",
       "  </thead>\n",
       "  <tbody>\n",
       "    <tr>\n",
       "      <th>count</th>\n",
       "      <td>179.000000</td>\n",
       "    </tr>\n",
       "    <tr>\n",
       "      <th>mean</th>\n",
       "      <td>3.147486</td>\n",
       "    </tr>\n",
       "    <tr>\n",
       "      <th>std</th>\n",
       "      <td>1.465610</td>\n",
       "    </tr>\n",
       "    <tr>\n",
       "      <th>min</th>\n",
       "      <td>1.000000</td>\n",
       "    </tr>\n",
       "    <tr>\n",
       "      <th>25%</th>\n",
       "      <td>1.650000</td>\n",
       "    </tr>\n",
       "    <tr>\n",
       "      <th>50%</th>\n",
       "      <td>3.400000</td>\n",
       "    </tr>\n",
       "    <tr>\n",
       "      <th>75%</th>\n",
       "      <td>4.600000</td>\n",
       "    </tr>\n",
       "    <tr>\n",
       "      <th>max</th>\n",
       "      <td>5.000000</td>\n",
       "    </tr>\n",
       "  </tbody>\n",
       "</table>\n",
       "</div>"
      ],
      "text/plain": [
       "           Rating\n",
       "count  179.000000\n",
       "mean     3.147486\n",
       "std      1.465610\n",
       "min      1.000000\n",
       "25%      1.650000\n",
       "50%      3.400000\n",
       "75%      4.600000\n",
       "max      5.000000"
      ]
     },
     "execution_count": 45,
     "metadata": {},
     "output_type": "execute_result"
    }
   ],
   "source": [
    "# ratings range\n",
    "fruit_ratings.describe()"
   ]
  },
  {
   "cell_type": "code",
   "execution_count": 46,
   "id": "3689d940-2f69-467b-94c8-29805369f850",
   "metadata": {},
   "outputs": [
    {
     "data": {
      "text/plain": [
       "count    29.000000\n",
       "mean      2.937931\n",
       "std       1.636724\n",
       "min       1.000000\n",
       "25%       1.200000\n",
       "50%       3.100000\n",
       "75%       4.600000\n",
       "max       4.900000\n",
       "Name: Lime, dtype: float64"
      ]
     },
     "execution_count": 46,
     "metadata": {},
     "output_type": "execute_result"
    }
   ],
   "source": [
    "# mean of lime ratings\n",
    "X.Lime.describe()"
   ]
  },
  {
   "cell_type": "code",
   "execution_count": 52,
   "id": "3d35a488-c18e-4402-9091-37eeed51cc83",
   "metadata": {},
   "outputs": [
    {
     "data": {
      "text/html": [
       "<div>\n",
       "<style scoped>\n",
       "    .dataframe tbody tr th:only-of-type {\n",
       "        vertical-align: middle;\n",
       "    }\n",
       "\n",
       "    .dataframe tbody tr th {\n",
       "        vertical-align: top;\n",
       "    }\n",
       "\n",
       "    .dataframe thead th {\n",
       "        text-align: right;\n",
       "    }\n",
       "</style>\n",
       "<table border=\"1\" class=\"dataframe\">\n",
       "  <thead>\n",
       "    <tr style=\"text-align: right;\">\n",
       "      <th></th>\n",
       "      <th>Banana</th>\n",
       "      <th>Lemon</th>\n",
       "      <th>Lime</th>\n",
       "      <th>Mango</th>\n",
       "      <th>Peach</th>\n",
       "      <th>Pineapple</th>\n",
       "    </tr>\n",
       "  </thead>\n",
       "  <tbody>\n",
       "    <tr>\n",
       "      <th>user0</th>\n",
       "      <td>1.1</td>\n",
       "      <td>4.3</td>\n",
       "      <td>4.7</td>\n",
       "      <td>1.0</td>\n",
       "      <td>2.4</td>\n",
       "      <td>4.9</td>\n",
       "    </tr>\n",
       "    <tr>\n",
       "      <th>user1</th>\n",
       "      <td>1.2</td>\n",
       "      <td>4.6</td>\n",
       "      <td>4.5</td>\n",
       "      <td>1.3</td>\n",
       "      <td>2.1</td>\n",
       "      <td>4.8</td>\n",
       "    </tr>\n",
       "    <tr>\n",
       "      <th>user10</th>\n",
       "      <td>4.8</td>\n",
       "      <td>3.7</td>\n",
       "      <td>4.1</td>\n",
       "      <td>2.2</td>\n",
       "      <td>3.3</td>\n",
       "      <td>2.4</td>\n",
       "    </tr>\n",
       "    <tr>\n",
       "      <th>user11</th>\n",
       "      <td>2.5</td>\n",
       "      <td>2.9</td>\n",
       "      <td>3.7</td>\n",
       "      <td>4.1</td>\n",
       "      <td>1.8</td>\n",
       "      <td>4.1</td>\n",
       "    </tr>\n",
       "    <tr>\n",
       "      <th>user12</th>\n",
       "      <td>4.2</td>\n",
       "      <td>4.1</td>\n",
       "      <td>2.3</td>\n",
       "      <td>3.2</td>\n",
       "      <td>5.0</td>\n",
       "      <td>1.7</td>\n",
       "    </tr>\n",
       "  </tbody>\n",
       "</table>\n",
       "</div>"
      ],
      "text/plain": [
       "        Banana  Lemon  Lime  Mango  Peach  Pineapple\n",
       "user0      1.1    4.3   4.7    1.0    2.4        4.9\n",
       "user1      1.2    4.6   4.5    1.3    2.1        4.8\n",
       "user10     4.8    3.7   4.1    2.2    3.3        2.4\n",
       "user11     2.5    2.9   3.7    4.1    1.8        4.1\n",
       "user12     4.2    4.1   2.3    3.2    5.0        1.7"
      ]
     },
     "execution_count": 52,
     "metadata": {},
     "output_type": "execute_result"
    }
   ],
   "source": [
    "# updated user-item matrix with nan values as numeric values\n",
    "X = (fruit_ratings.pivot(index='User', columns='Fruit', values='Rating').fillna(3))\n",
    "X.index.name = None\n",
    "X.columns.name = None\n",
    "X.head()"
   ]
  },
  {
   "cell_type": "code",
   "execution_count": 58,
   "id": "afa27bf2-b23b-456a-8285-d8203d353711",
   "metadata": {},
   "outputs": [
    {
     "data": {
      "text/plain": [
       "(30, 6)"
      ]
     },
     "execution_count": 58,
     "metadata": {},
     "output_type": "execute_result"
    }
   ],
   "source": [
    "X.shape"
   ]
  },
  {
   "cell_type": "markdown",
   "id": "e8b2792c-1828-474d-b459-00710bbe23ce",
   "metadata": {},
   "source": [
    "### b. Modeling: Truncated SVD"
   ]
  },
  {
   "cell_type": "code",
   "execution_count": 53,
   "id": "c58872cd-372c-41de-ad9a-c3cd3f5ab58f",
   "metadata": {},
   "outputs": [],
   "source": [
    "# import truncated svd from sklearn\n",
    "from sklearn.decomposition import TruncatedSVD"
   ]
  },
  {
   "cell_type": "code",
   "execution_count": 61,
   "id": "b75b635b-258a-4029-9bb6-331d74c9dd29",
   "metadata": {},
   "outputs": [],
   "source": [
    "# apply SVD to the ratings\n",
    "svd = TruncatedSVD(n_components=2)"
   ]
  },
  {
   "cell_type": "code",
   "execution_count": 64,
   "id": "1a6c4737-268d-4698-a98e-6803f7b78580",
   "metadata": {},
   "outputs": [
    {
     "data": {
      "text/html": [
       "<div>\n",
       "<style scoped>\n",
       "    .dataframe tbody tr th:only-of-type {\n",
       "        vertical-align: middle;\n",
       "    }\n",
       "\n",
       "    .dataframe tbody tr th {\n",
       "        vertical-align: top;\n",
       "    }\n",
       "\n",
       "    .dataframe thead th {\n",
       "        text-align: right;\n",
       "    }\n",
       "</style>\n",
       "<table border=\"1\" class=\"dataframe\">\n",
       "  <thead>\n",
       "    <tr style=\"text-align: right;\">\n",
       "      <th></th>\n",
       "      <th>0</th>\n",
       "      <th>1</th>\n",
       "    </tr>\n",
       "  </thead>\n",
       "  <tbody>\n",
       "    <tr>\n",
       "      <th>user0</th>\n",
       "      <td>7.473496</td>\n",
       "      <td>4.062791</td>\n",
       "    </tr>\n",
       "    <tr>\n",
       "      <th>user1</th>\n",
       "      <td>7.491190</td>\n",
       "      <td>3.972463</td>\n",
       "    </tr>\n",
       "    <tr>\n",
       "      <th>user10</th>\n",
       "      <td>8.330967</td>\n",
       "      <td>0.158395</td>\n",
       "    </tr>\n",
       "    <tr>\n",
       "      <th>user11</th>\n",
       "      <td>7.725274</td>\n",
       "      <td>0.926172</td>\n",
       "    </tr>\n",
       "    <tr>\n",
       "      <th>user12</th>\n",
       "      <td>8.366775</td>\n",
       "      <td>-1.396251</td>\n",
       "    </tr>\n",
       "  </tbody>\n",
       "</table>\n",
       "</div>"
      ],
      "text/plain": [
       "               0         1\n",
       "user0   7.473496  4.062791\n",
       "user1   7.491190  3.972463\n",
       "user10  8.330967  0.158395\n",
       "user11  7.725274  0.926172\n",
       "user12  8.366775 -1.396251"
      ]
     },
     "execution_count": 64,
     "metadata": {},
     "output_type": "execute_result"
    }
   ],
   "source": [
    "# view the U matrix\n",
    "\n",
    "# method 1\n",
    "svd.fit(X)\n",
    "U = svd.transform(X)\n",
    "\n",
    "# method 2\n",
    "U = svd.fit_transform(X)\n",
    "\n",
    "U_df = pd.DataFrame(U, index=X.index)\n",
    "U_df.head()"
   ]
  },
  {
   "cell_type": "code",
   "execution_count": 65,
   "id": "152e8613-d724-4f67-9814-49fab174219a",
   "metadata": {},
   "outputs": [
    {
     "data": {
      "text/plain": [
       "(30, 2)"
      ]
     },
     "execution_count": 65,
     "metadata": {},
     "output_type": "execute_result"
    }
   ],
   "source": [
    "# view the shape of the U matrix (users x latent features)\n",
    "U_df.shape"
   ]
  },
  {
   "cell_type": "code",
   "execution_count": 70,
   "id": "c1e732f4-1cce-46b1-a288-c5fbd731d010",
   "metadata": {},
   "outputs": [
    {
     "data": {
      "text/plain": [
       "(array([42.3738503, 17.6542247]), (2,))"
      ]
     },
     "execution_count": 70,
     "metadata": {},
     "output_type": "execute_result"
    }
   ],
   "source": [
    "# view the sigma matrix (diagonal values)\n",
    "sigma = svd.singular_values_\n",
    "sigma, sigma.shape"
   ]
  },
  {
   "cell_type": "code",
   "execution_count": 67,
   "id": "25c6bbb7-7968-4915-a3b3-5c32652f9111",
   "metadata": {},
   "outputs": [
    {
     "data": {
      "text/html": [
       "<div>\n",
       "<style scoped>\n",
       "    .dataframe tbody tr th:only-of-type {\n",
       "        vertical-align: middle;\n",
       "    }\n",
       "\n",
       "    .dataframe tbody tr th {\n",
       "        vertical-align: top;\n",
       "    }\n",
       "\n",
       "    .dataframe thead th {\n",
       "        text-align: right;\n",
       "    }\n",
       "</style>\n",
       "<table border=\"1\" class=\"dataframe\">\n",
       "  <thead>\n",
       "    <tr style=\"text-align: right;\">\n",
       "      <th></th>\n",
       "      <th>Banana</th>\n",
       "      <th>Lemon</th>\n",
       "      <th>Lime</th>\n",
       "      <th>Mango</th>\n",
       "      <th>Peach</th>\n",
       "      <th>Pineapple</th>\n",
       "    </tr>\n",
       "  </thead>\n",
       "  <tbody>\n",
       "    <tr>\n",
       "      <th>0</th>\n",
       "      <td>0.422823</td>\n",
       "      <td>0.376398</td>\n",
       "      <td>0.378344</td>\n",
       "      <td>0.381959</td>\n",
       "      <td>0.44026</td>\n",
       "      <td>0.443486</td>\n",
       "    </tr>\n",
       "    <tr>\n",
       "      <th>1</th>\n",
       "      <td>-0.468373</td>\n",
       "      <td>0.419367</td>\n",
       "      <td>0.467655</td>\n",
       "      <td>-0.426644</td>\n",
       "      <td>-0.28962</td>\n",
       "      <td>0.346628</td>\n",
       "    </tr>\n",
       "  </tbody>\n",
       "</table>\n",
       "</div>"
      ],
      "text/plain": [
       "     Banana     Lemon      Lime     Mango    Peach  Pineapple\n",
       "0  0.422823  0.376398  0.378344  0.381959  0.44026   0.443486\n",
       "1 -0.468373  0.419367  0.467655 -0.426644 -0.28962   0.346628"
      ]
     },
     "execution_count": 67,
     "metadata": {},
     "output_type": "execute_result"
    }
   ],
   "source": [
    "# view the VT matrix\n",
    "VT = svd.components_\n",
    "\n",
    "VT_df = pd.DataFrame(VT, columns=X.columns)\n",
    "VT_df"
   ]
  },
  {
   "cell_type": "code",
   "execution_count": 72,
   "id": "dbdea004-daae-40c1-9eb7-d1e51eea8de9",
   "metadata": {},
   "outputs": [
    {
     "data": {
      "text/html": [
       "<div>\n",
       "<style scoped>\n",
       "    .dataframe tbody tr th:only-of-type {\n",
       "        vertical-align: middle;\n",
       "    }\n",
       "\n",
       "    .dataframe tbody tr th {\n",
       "        vertical-align: top;\n",
       "    }\n",
       "\n",
       "    .dataframe thead th {\n",
       "        text-align: right;\n",
       "    }\n",
       "</style>\n",
       "<table border=\"1\" class=\"dataframe\">\n",
       "  <thead>\n",
       "    <tr style=\"text-align: right;\">\n",
       "      <th></th>\n",
       "      <th>Banana</th>\n",
       "      <th>Lemon</th>\n",
       "      <th>Lime</th>\n",
       "      <th>Mango</th>\n",
       "      <th>Peach</th>\n",
       "      <th>Pineapple</th>\n",
       "      <th>Comments</th>\n",
       "    </tr>\n",
       "  </thead>\n",
       "  <tbody>\n",
       "    <tr>\n",
       "      <th>0</th>\n",
       "      <td>0.422823</td>\n",
       "      <td>0.376398</td>\n",
       "      <td>0.378344</td>\n",
       "      <td>0.381959</td>\n",
       "      <td>0.44026</td>\n",
       "      <td>0.443486</td>\n",
       "      <td>All positive</td>\n",
       "    </tr>\n",
       "    <tr>\n",
       "      <th>1</th>\n",
       "      <td>-0.468373</td>\n",
       "      <td>0.419367</td>\n",
       "      <td>0.467655</td>\n",
       "      <td>-0.426644</td>\n",
       "      <td>-0.28962</td>\n",
       "      <td>0.346628</td>\n",
       "      <td>Positive = sour, negative = sweet</td>\n",
       "    </tr>\n",
       "  </tbody>\n",
       "</table>\n",
       "</div>"
      ],
      "text/plain": [
       "     Banana     Lemon      Lime     Mango    Peach  Pineapple  \\\n",
       "0  0.422823  0.376398  0.378344  0.381959  0.44026   0.443486   \n",
       "1 -0.468373  0.419367  0.467655 -0.426644 -0.28962   0.346628   \n",
       "\n",
       "                            Comments  \n",
       "0                       All positive  \n",
       "1  Positive = sour, negative = sweet  "
      ]
     },
     "execution_count": 72,
     "metadata": {},
     "output_type": "execute_result"
    }
   ],
   "source": [
    "VTx = VT_df.copy()\n",
    "VTx['Comments'] = ['All positive', 'Positive = sour, negative = sweet']\n",
    "VTx"
   ]
  },
  {
   "cell_type": "code",
   "execution_count": 69,
   "id": "994350dd-bcff-4d2f-980e-925c915a1d4e",
   "metadata": {},
   "outputs": [
    {
     "data": {
      "text/plain": [
       "(2, 6)"
      ]
     },
     "execution_count": 69,
     "metadata": {},
     "output_type": "execute_result"
    }
   ],
   "source": [
    "# view the shape of the VT matrix\n",
    "VT_df.shape"
   ]
  },
  {
   "cell_type": "markdown",
   "id": "92514d52-e953-4f39-bac8-ba743bd1f45c",
   "metadata": {},
   "source": [
    "### c. Tuning: Choosing the Number of Components"
   ]
  },
  {
   "cell_type": "code",
   "execution_count": 73,
   "id": "101e66d6-2c62-4b24-9f2a-41c94fd53320",
   "metadata": {},
   "outputs": [
    {
     "data": {
      "text/html": [
       "<div>\n",
       "<style scoped>\n",
       "    .dataframe tbody tr th:only-of-type {\n",
       "        vertical-align: middle;\n",
       "    }\n",
       "\n",
       "    .dataframe tbody tr th {\n",
       "        vertical-align: top;\n",
       "    }\n",
       "\n",
       "    .dataframe thead th {\n",
       "        text-align: right;\n",
       "    }\n",
       "</style>\n",
       "<table border=\"1\" class=\"dataframe\">\n",
       "  <thead>\n",
       "    <tr style=\"text-align: right;\">\n",
       "      <th></th>\n",
       "      <th>Banana</th>\n",
       "      <th>Lemon</th>\n",
       "      <th>Lime</th>\n",
       "      <th>Mango</th>\n",
       "      <th>Peach</th>\n",
       "      <th>Pineapple</th>\n",
       "    </tr>\n",
       "  </thead>\n",
       "  <tbody>\n",
       "    <tr>\n",
       "      <th>user0</th>\n",
       "      <td>1.1</td>\n",
       "      <td>4.3</td>\n",
       "      <td>4.7</td>\n",
       "      <td>1.0</td>\n",
       "      <td>2.4</td>\n",
       "      <td>4.9</td>\n",
       "    </tr>\n",
       "    <tr>\n",
       "      <th>user1</th>\n",
       "      <td>1.2</td>\n",
       "      <td>4.6</td>\n",
       "      <td>4.5</td>\n",
       "      <td>1.3</td>\n",
       "      <td>2.1</td>\n",
       "      <td>4.8</td>\n",
       "    </tr>\n",
       "    <tr>\n",
       "      <th>user10</th>\n",
       "      <td>4.8</td>\n",
       "      <td>3.7</td>\n",
       "      <td>4.1</td>\n",
       "      <td>2.2</td>\n",
       "      <td>3.3</td>\n",
       "      <td>2.4</td>\n",
       "    </tr>\n",
       "    <tr>\n",
       "      <th>user11</th>\n",
       "      <td>2.5</td>\n",
       "      <td>2.9</td>\n",
       "      <td>3.7</td>\n",
       "      <td>4.1</td>\n",
       "      <td>1.8</td>\n",
       "      <td>4.1</td>\n",
       "    </tr>\n",
       "    <tr>\n",
       "      <th>user12</th>\n",
       "      <td>4.2</td>\n",
       "      <td>4.1</td>\n",
       "      <td>2.3</td>\n",
       "      <td>3.2</td>\n",
       "      <td>5.0</td>\n",
       "      <td>1.7</td>\n",
       "    </tr>\n",
       "  </tbody>\n",
       "</table>\n",
       "</div>"
      ],
      "text/plain": [
       "        Banana  Lemon  Lime  Mango  Peach  Pineapple\n",
       "user0      1.1    4.3   4.7    1.0    2.4        4.9\n",
       "user1      1.2    4.6   4.5    1.3    2.1        4.8\n",
       "user10     4.8    3.7   4.1    2.2    3.3        2.4\n",
       "user11     2.5    2.9   3.7    4.1    1.8        4.1\n",
       "user12     4.2    4.1   2.3    3.2    5.0        1.7"
      ]
     },
     "execution_count": 73,
     "metadata": {},
     "output_type": "execute_result"
    }
   ],
   "source": [
    "# view the original data set\n",
    "X.head()"
   ]
  },
  {
   "cell_type": "code",
   "execution_count": 74,
   "id": "914f2ece-c744-43b8-b534-73aa19454fa0",
   "metadata": {},
   "outputs": [
    {
     "data": {
      "text/plain": [
       "(30, 6)"
      ]
     },
     "execution_count": 74,
     "metadata": {},
     "output_type": "execute_result"
    }
   ],
   "source": [
    "# view the shape of the original data set\n",
    "X.shape"
   ]
  },
  {
   "cell_type": "markdown",
   "id": "037b761a-8e89-48d6-a0de-3d8e49aeabd4",
   "metadata": {},
   "source": [
    "#### Model 1: SVD with 2 Components"
   ]
  },
  {
   "cell_type": "code",
   "execution_count": 75,
   "id": "2b53d094-5a39-40cc-b250-14bc7e875601",
   "metadata": {},
   "outputs": [
    {
     "data": {
      "text/html": [
       "<div>\n",
       "<style scoped>\n",
       "    .dataframe tbody tr th:only-of-type {\n",
       "        vertical-align: middle;\n",
       "    }\n",
       "\n",
       "    .dataframe tbody tr th {\n",
       "        vertical-align: top;\n",
       "    }\n",
       "\n",
       "    .dataframe thead th {\n",
       "        text-align: right;\n",
       "    }\n",
       "</style>\n",
       "<table border=\"1\" class=\"dataframe\">\n",
       "  <thead>\n",
       "    <tr style=\"text-align: right;\">\n",
       "      <th></th>\n",
       "      <th>0</th>\n",
       "      <th>1</th>\n",
       "    </tr>\n",
       "  </thead>\n",
       "  <tbody>\n",
       "    <tr>\n",
       "      <th>user0</th>\n",
       "      <td>7.473496</td>\n",
       "      <td>4.062791</td>\n",
       "    </tr>\n",
       "    <tr>\n",
       "      <th>user1</th>\n",
       "      <td>7.491190</td>\n",
       "      <td>3.972463</td>\n",
       "    </tr>\n",
       "    <tr>\n",
       "      <th>user10</th>\n",
       "      <td>8.330967</td>\n",
       "      <td>0.158395</td>\n",
       "    </tr>\n",
       "    <tr>\n",
       "      <th>user11</th>\n",
       "      <td>7.725274</td>\n",
       "      <td>0.926172</td>\n",
       "    </tr>\n",
       "    <tr>\n",
       "      <th>user12</th>\n",
       "      <td>8.366775</td>\n",
       "      <td>-1.396251</td>\n",
       "    </tr>\n",
       "  </tbody>\n",
       "</table>\n",
       "</div>"
      ],
      "text/plain": [
       "               0         1\n",
       "user0   7.473496  4.062791\n",
       "user1   7.491190  3.972463\n",
       "user10  8.330967  0.158395\n",
       "user11  7.725274  0.926172\n",
       "user12  8.366775 -1.396251"
      ]
     },
     "execution_count": 75,
     "metadata": {},
     "output_type": "execute_result"
    }
   ],
   "source": [
    "# view the U matrix\n",
    "U_df.head()"
   ]
  },
  {
   "cell_type": "code",
   "execution_count": 79,
   "id": "a9fcfc65-2539-4cc5-8941-b0046421f215",
   "metadata": {},
   "outputs": [
    {
     "data": {
      "text/plain": [
       "(30, 2)"
      ]
     },
     "execution_count": 79,
     "metadata": {},
     "output_type": "execute_result"
    }
   ],
   "source": [
    "# view the shape of the U matrix (users x latent features)\n",
    "U_df.shape"
   ]
  },
  {
   "cell_type": "code",
   "execution_count": 77,
   "id": "b857a2ae-8fbd-4fcf-9603-a4228229921d",
   "metadata": {},
   "outputs": [
    {
     "data": {
      "text/plain": [
       "array([0.01114043, 0.83500665])"
      ]
     },
     "execution_count": 77,
     "metadata": {},
     "output_type": "execute_result"
    }
   ],
   "source": [
    "# view the explained variance ratios\n",
    "svd.explained_variance_ratio_"
   ]
  },
  {
   "cell_type": "code",
   "execution_count": 78,
   "id": "2c990feb-2223-4520-a9a2-0d49dddd0fcb",
   "metadata": {},
   "outputs": [
    {
     "data": {
      "text/plain": [
       "0.8461470788660235"
      ]
     },
     "execution_count": 78,
     "metadata": {},
     "output_type": "execute_result"
    }
   ],
   "source": [
    "# total explained variance\n",
    "sum(svd.explained_variance_ratio_)"
   ]
  },
  {
   "cell_type": "markdown",
   "id": "be22c7cc-3c01-44de-9e26-ddb55d7f88d9",
   "metadata": {},
   "source": [
    "#### Model 2: SVD with All 6 Components"
   ]
  },
  {
   "cell_type": "code",
   "execution_count": 80,
   "id": "49070ea8-59da-4de9-b039-1d7589ef652e",
   "metadata": {},
   "outputs": [],
   "source": [
    "# try SVD with all 6 components\n",
    "svd6 = TruncatedSVD(n_components=6)\n",
    "U6 = svd6.fit_transform(X)"
   ]
  },
  {
   "cell_type": "code",
   "execution_count": 81,
   "id": "c94e8007-8043-44b6-b6c6-a336121c67a3",
   "metadata": {},
   "outputs": [
    {
     "data": {
      "text/html": [
       "<div>\n",
       "<style scoped>\n",
       "    .dataframe tbody tr th:only-of-type {\n",
       "        vertical-align: middle;\n",
       "    }\n",
       "\n",
       "    .dataframe tbody tr th {\n",
       "        vertical-align: top;\n",
       "    }\n",
       "\n",
       "    .dataframe thead th {\n",
       "        text-align: right;\n",
       "    }\n",
       "</style>\n",
       "<table border=\"1\" class=\"dataframe\">\n",
       "  <thead>\n",
       "    <tr style=\"text-align: right;\">\n",
       "      <th></th>\n",
       "      <th>0</th>\n",
       "      <th>1</th>\n",
       "      <th>2</th>\n",
       "      <th>3</th>\n",
       "      <th>4</th>\n",
       "      <th>5</th>\n",
       "    </tr>\n",
       "  </thead>\n",
       "  <tbody>\n",
       "    <tr>\n",
       "      <th>user0</th>\n",
       "      <td>7.473496</td>\n",
       "      <td>4.062791</td>\n",
       "      <td>0.069101</td>\n",
       "      <td>-0.252455</td>\n",
       "      <td>-0.363006</td>\n",
       "      <td>0.017474</td>\n",
       "    </tr>\n",
       "    <tr>\n",
       "      <th>user1</th>\n",
       "      <td>7.491190</td>\n",
       "      <td>3.972463</td>\n",
       "      <td>0.069951</td>\n",
       "      <td>-0.213452</td>\n",
       "      <td>0.200745</td>\n",
       "      <td>-0.029323</td>\n",
       "    </tr>\n",
       "    <tr>\n",
       "      <th>user10</th>\n",
       "      <td>8.330967</td>\n",
       "      <td>0.158395</td>\n",
       "      <td>-1.456494</td>\n",
       "      <td>1.829248</td>\n",
       "      <td>0.024443</td>\n",
       "      <td>0.363001</td>\n",
       "    </tr>\n",
       "    <tr>\n",
       "      <th>user11</th>\n",
       "      <td>7.725274</td>\n",
       "      <td>0.926172</td>\n",
       "      <td>1.780361</td>\n",
       "      <td>0.514856</td>\n",
       "      <td>0.997471</td>\n",
       "      <td>-0.492574</td>\n",
       "    </tr>\n",
       "    <tr>\n",
       "      <th>user12</th>\n",
       "      <td>8.366775</td>\n",
       "      <td>-1.396251</td>\n",
       "      <td>-2.265663</td>\n",
       "      <td>-0.059205</td>\n",
       "      <td>0.303751</td>\n",
       "      <td>-0.829798</td>\n",
       "    </tr>\n",
       "  </tbody>\n",
       "</table>\n",
       "</div>"
      ],
      "text/plain": [
       "               0         1         2         3         4         5\n",
       "user0   7.473496  4.062791  0.069101 -0.252455 -0.363006  0.017474\n",
       "user1   7.491190  3.972463  0.069951 -0.213452  0.200745 -0.029323\n",
       "user10  8.330967  0.158395 -1.456494  1.829248  0.024443  0.363001\n",
       "user11  7.725274  0.926172  1.780361  0.514856  0.997471 -0.492574\n",
       "user12  8.366775 -1.396251 -2.265663 -0.059205  0.303751 -0.829798"
      ]
     },
     "execution_count": 81,
     "metadata": {},
     "output_type": "execute_result"
    }
   ],
   "source": [
    "# view the U6 matrix\n",
    "U6_df = pd.DataFrame(U6, index=X.index)\n",
    "U6_df.head()"
   ]
  },
  {
   "cell_type": "code",
   "execution_count": 85,
   "id": "857c5966-d334-454d-915b-2bd824a06e25",
   "metadata": {},
   "outputs": [
    {
     "data": {
      "text/plain": [
       "(30, 6)"
      ]
     },
     "execution_count": 85,
     "metadata": {},
     "output_type": "execute_result"
    }
   ],
   "source": [
    "# view the shape of the U matrix\n",
    "U6_df.shape"
   ]
  },
  {
   "cell_type": "code",
   "execution_count": 114,
   "id": "9f9fa900-f522-4076-b434-70b2020f047b",
   "metadata": {},
   "outputs": [
    {
     "name": "stdout",
     "output_type": "stream",
     "text": [
      "[0.01 0.84 0.08 0.05 0.01 0.01]\n",
      "[0.01 0.85 0.93 0.98 0.99 1.  ]\n"
     ]
    }
   ],
   "source": [
    "import numpy as np\n",
    "\n",
    "# view the explained variance ratios\n",
    "print(svd6.explained_variance_ratio_.round(2))\n",
    "\n",
    "# view the cumulative explained variance ratio\n",
    "print(np.cumsum(svd6.explained_variance_ratio_).round(2))"
   ]
  },
  {
   "cell_type": "code",
   "execution_count": 90,
   "id": "dd818a10-dcf1-43d9-b777-f3c3ed214b7b",
   "metadata": {},
   "outputs": [
    {
     "data": {
      "text/plain": [
       "[(1, 0.011140426986469568),\n",
       " (2, 0.8461470788660229),\n",
       " (3, 0.9263972581039888),\n",
       " (4, 0.9759333027137892),\n",
       " (5, 0.9903851759902451),\n",
       " (6, 1.0000000000000004)]"
      ]
     },
     "execution_count": 90,
     "metadata": {},
     "output_type": "execute_result"
    }
   ],
   "source": [
    "# prep the data for line plot\n",
    "cum_evr6 = list(zip(range(1, U6.shape[1] + 1), np.cumsum(svd6.explained_variance_ratio_))) # hits 80% at 2 components\n",
    "cum_evr6"
   ]
  },
  {
   "cell_type": "code",
   "execution_count": 95,
   "id": "0ca03a32-109f-4217-803d-9fff876c5727",
   "metadata": {},
   "outputs": [
    {
     "data": {
      "text/html": [
       "<div>\n",
       "<style scoped>\n",
       "    .dataframe tbody tr th:only-of-type {\n",
       "        vertical-align: middle;\n",
       "    }\n",
       "\n",
       "    .dataframe tbody tr th {\n",
       "        vertical-align: top;\n",
       "    }\n",
       "\n",
       "    .dataframe thead th {\n",
       "        text-align: right;\n",
       "    }\n",
       "</style>\n",
       "<table border=\"1\" class=\"dataframe\">\n",
       "  <thead>\n",
       "    <tr style=\"text-align: right;\">\n",
       "      <th></th>\n",
       "      <th>1</th>\n",
       "    </tr>\n",
       "    <tr>\n",
       "      <th>0</th>\n",
       "      <th></th>\n",
       "    </tr>\n",
       "  </thead>\n",
       "  <tbody>\n",
       "    <tr>\n",
       "      <th>1</th>\n",
       "      <td>0.011140</td>\n",
       "    </tr>\n",
       "    <tr>\n",
       "      <th>2</th>\n",
       "      <td>0.846147</td>\n",
       "    </tr>\n",
       "    <tr>\n",
       "      <th>3</th>\n",
       "      <td>0.926397</td>\n",
       "    </tr>\n",
       "    <tr>\n",
       "      <th>4</th>\n",
       "      <td>0.975933</td>\n",
       "    </tr>\n",
       "    <tr>\n",
       "      <th>5</th>\n",
       "      <td>0.990385</td>\n",
       "    </tr>\n",
       "    <tr>\n",
       "      <th>6</th>\n",
       "      <td>1.000000</td>\n",
       "    </tr>\n",
       "  </tbody>\n",
       "</table>\n",
       "</div>"
      ],
      "text/plain": [
       "          1\n",
       "0          \n",
       "1  0.011140\n",
       "2  0.846147\n",
       "3  0.926397\n",
       "4  0.975933\n",
       "5  0.990385\n",
       "6  1.000000"
      ]
     },
     "execution_count": 95,
     "metadata": {},
     "output_type": "execute_result"
    }
   ],
   "source": [
    "cum_evr6_df = pd.DataFrame(cum_evr6).set_index(0)\n",
    "cum_evr6_df"
   ]
  },
  {
   "cell_type": "code",
   "execution_count": 113,
   "id": "2f7a98d0-5730-40fa-9d82-eccee64c3aed",
   "metadata": {},
   "outputs": [
    {
     "data": {
      "image/png": "[encoded data removed]",
      "text/plain": [
       "<Figure size 640x480 with 1 Axes>"
      ]
     },
     "metadata": {},
     "output_type": "display_data"
    }
   ],
   "source": [
    "# 80%+ of the variance is captured at 2 components --> choose a 2 component model\n",
    "ax = cum_evr6_df.plot(title='Number of Components vs Cumulative Explained Variance Ratio',\n",
    "                 xlabel='Components',\n",
    "                 ylabel='Cumulative Explained Variance Ratio',\n",
    "                 legend=False)\n",
    "\n",
    "# label each point in the plot\n",
    "# for idx, row in cum_evr6_df.iterrows():\n",
    "#     ax.annotate(row[1].round(2), (idx+0.025, row[1]+0.025))\n",
    "\n",
    "for idx, row in cum_evr6_df.iterrows():\n",
    "    ax.annotate(row[1].round(2), (idx, row[1]),\n",
    "                xytext=(3,-10),\n",
    "                textcoords='offset points', \n",
    "                family='sans-serif', \n",
    "                fontsize=10);"
   ]
  },
  {
   "cell_type": "markdown",
   "id": "5f09c57e-329f-4d05-ab55-b69617089234",
   "metadata": {},
   "source": [
    "### d. Recommending: Making Recommendations"
   ]
  },
  {
   "cell_type": "code",
   "execution_count": 117,
   "id": "c9528cee-4d02-4eee-996e-0455d1dd4da5",
   "metadata": {},
   "outputs": [
    {
     "name": "stdout",
     "output_type": "stream",
     "text": [
      "(30, 6)\n"
     ]
    },
    {
     "data": {
      "text/html": [
       "<div>\n",
       "<style scoped>\n",
       "    .dataframe tbody tr th:only-of-type {\n",
       "        vertical-align: middle;\n",
       "    }\n",
       "\n",
       "    .dataframe tbody tr th {\n",
       "        vertical-align: top;\n",
       "    }\n",
       "\n",
       "    .dataframe thead th {\n",
       "        text-align: right;\n",
       "    }\n",
       "</style>\n",
       "<table border=\"1\" class=\"dataframe\">\n",
       "  <thead>\n",
       "    <tr style=\"text-align: right;\">\n",
       "      <th></th>\n",
       "      <th>Banana</th>\n",
       "      <th>Lemon</th>\n",
       "      <th>Lime</th>\n",
       "      <th>Mango</th>\n",
       "      <th>Peach</th>\n",
       "      <th>Pineapple</th>\n",
       "    </tr>\n",
       "  </thead>\n",
       "  <tbody>\n",
       "    <tr>\n",
       "      <th>user0</th>\n",
       "      <td>1.1</td>\n",
       "      <td>4.3</td>\n",
       "      <td>4.7</td>\n",
       "      <td>1.0</td>\n",
       "      <td>2.4</td>\n",
       "      <td>4.9</td>\n",
       "    </tr>\n",
       "    <tr>\n",
       "      <th>user1</th>\n",
       "      <td>1.2</td>\n",
       "      <td>4.6</td>\n",
       "      <td>4.5</td>\n",
       "      <td>1.3</td>\n",
       "      <td>2.1</td>\n",
       "      <td>4.8</td>\n",
       "    </tr>\n",
       "    <tr>\n",
       "      <th>user10</th>\n",
       "      <td>4.8</td>\n",
       "      <td>3.7</td>\n",
       "      <td>4.1</td>\n",
       "      <td>2.2</td>\n",
       "      <td>3.3</td>\n",
       "      <td>2.4</td>\n",
       "    </tr>\n",
       "    <tr>\n",
       "      <th>user11</th>\n",
       "      <td>2.5</td>\n",
       "      <td>2.9</td>\n",
       "      <td>3.7</td>\n",
       "      <td>4.1</td>\n",
       "      <td>1.8</td>\n",
       "      <td>4.1</td>\n",
       "    </tr>\n",
       "    <tr>\n",
       "      <th>user12</th>\n",
       "      <td>4.2</td>\n",
       "      <td>4.1</td>\n",
       "      <td>2.3</td>\n",
       "      <td>3.2</td>\n",
       "      <td>5.0</td>\n",
       "      <td>1.7</td>\n",
       "    </tr>\n",
       "  </tbody>\n",
       "</table>\n",
       "</div>"
      ],
      "text/plain": [
       "        Banana  Lemon  Lime  Mango  Peach  Pineapple\n",
       "user0      1.1    4.3   4.7    1.0    2.4        4.9\n",
       "user1      1.2    4.6   4.5    1.3    2.1        4.8\n",
       "user10     4.8    3.7   4.1    2.2    3.3        2.4\n",
       "user11     2.5    2.9   3.7    4.1    1.8        4.1\n",
       "user12     4.2    4.1   2.3    3.2    5.0        1.7"
      ]
     },
     "execution_count": 117,
     "metadata": {},
     "output_type": "execute_result"
    }
   ],
   "source": [
    "print(X.shape)\n",
    "X.head()"
   ]
  },
  {
   "cell_type": "markdown",
   "id": "e4b86e1b-212e-4952-b05c-451eb1eac4d9",
   "metadata": {},
   "source": [
    "#### Step 1: Select a final model"
   ]
  },
  {
   "cell_type": "code",
   "execution_count": 118,
   "id": "e3ec979a-a396-4084-b88a-c574cd073119",
   "metadata": {},
   "outputs": [],
   "source": [
    "# let's say we settled on the 2 component model\n",
    "svd = TruncatedSVD(n_components=2)\n",
    "U = svd.fit_transform(X)"
   ]
  },
  {
   "cell_type": "code",
   "execution_count": 119,
   "id": "3845a793-2d47-4be1-84a7-b3ee1291f0a9",
   "metadata": {},
   "outputs": [
    {
     "data": {
      "text/plain": [
       "0.8461470788660231"
      ]
     },
     "execution_count": 119,
     "metadata": {},
     "output_type": "execute_result"
    }
   ],
   "source": [
    "# calculate the total explained variance\n",
    "sum(svd.explained_variance_ratio_)"
   ]
  },
  {
   "cell_type": "markdown",
   "id": "fc125eb4-cc9e-43a8-af65-4f474f0c50db",
   "metadata": {},
   "source": [
    "#### Step 2: Introduce a new user"
   ]
  },
  {
   "cell_type": "code",
   "execution_count": 120,
   "id": "d40bf062-803e-49c7-a647-a5dbd2601025",
   "metadata": {},
   "outputs": [
    {
     "data": {
      "text/plain": [
       "array([nan,  2., nan,  5., nan, nan])"
      ]
     },
     "execution_count": 120,
     "metadata": {},
     "output_type": "execute_result"
    }
   ],
   "source": [
    "# this new user has rated 2 out of 6 fruits\n",
    "new_user = np.array([np.NaN, 2, np.NaN, 5, np.NaN, np.NaN])\n",
    "new_user"
   ]
  },
  {
   "cell_type": "code",
   "execution_count": 121,
   "id": "ee5edf94-2786-4b3d-83ed-d664049c95e1",
   "metadata": {},
   "outputs": [
    {
     "data": {
      "text/html": [
       "<div>\n",
       "<style scoped>\n",
       "    .dataframe tbody tr th:only-of-type {\n",
       "        vertical-align: middle;\n",
       "    }\n",
       "\n",
       "    .dataframe tbody tr th {\n",
       "        vertical-align: top;\n",
       "    }\n",
       "\n",
       "    .dataframe thead th {\n",
       "        text-align: right;\n",
       "    }\n",
       "</style>\n",
       "<table border=\"1\" class=\"dataframe\">\n",
       "  <thead>\n",
       "    <tr style=\"text-align: right;\">\n",
       "      <th></th>\n",
       "      <th>Banana</th>\n",
       "      <th>Lemon</th>\n",
       "      <th>Lime</th>\n",
       "      <th>Mango</th>\n",
       "      <th>Peach</th>\n",
       "      <th>Pineapple</th>\n",
       "    </tr>\n",
       "  </thead>\n",
       "  <tbody>\n",
       "    <tr>\n",
       "      <th>0</th>\n",
       "      <td>NaN</td>\n",
       "      <td>2.0</td>\n",
       "      <td>NaN</td>\n",
       "      <td>5.0</td>\n",
       "      <td>NaN</td>\n",
       "      <td>NaN</td>\n",
       "    </tr>\n",
       "  </tbody>\n",
       "</table>\n",
       "</div>"
      ],
      "text/plain": [
       "   Banana  Lemon  Lime  Mango  Peach  Pineapple\n",
       "0     NaN    2.0   NaN    5.0    NaN        NaN"
      ]
     },
     "execution_count": 121,
     "metadata": {},
     "output_type": "execute_result"
    }
   ],
   "source": [
    "# view the new user's ratings as a dataframe\n",
    "new_user_6d = pd.DataFrame([new_user], columns=X.columns)\n",
    "new_user_6d"
   ]
  },
  {
   "cell_type": "code",
   "execution_count": 123,
   "id": "f9544c8d-e964-42f7-b10d-5ef0f00f05fc",
   "metadata": {},
   "outputs": [
    {
     "data": {
      "text/html": [
       "<div>\n",
       "<style scoped>\n",
       "    .dataframe tbody tr th:only-of-type {\n",
       "        vertical-align: middle;\n",
       "    }\n",
       "\n",
       "    .dataframe tbody tr th {\n",
       "        vertical-align: top;\n",
       "    }\n",
       "\n",
       "    .dataframe thead th {\n",
       "        text-align: right;\n",
       "    }\n",
       "</style>\n",
       "<table border=\"1\" class=\"dataframe\">\n",
       "  <thead>\n",
       "    <tr style=\"text-align: right;\">\n",
       "      <th></th>\n",
       "      <th>Banana</th>\n",
       "      <th>Lemon</th>\n",
       "      <th>Lime</th>\n",
       "      <th>Mango</th>\n",
       "      <th>Peach</th>\n",
       "      <th>Pineapple</th>\n",
       "    </tr>\n",
       "  </thead>\n",
       "  <tbody>\n",
       "    <tr>\n",
       "      <th>0</th>\n",
       "      <td>3.0</td>\n",
       "      <td>2.0</td>\n",
       "      <td>3.0</td>\n",
       "      <td>5.0</td>\n",
       "      <td>3.0</td>\n",
       "      <td>3.0</td>\n",
       "    </tr>\n",
       "  </tbody>\n",
       "</table>\n",
       "</div>"
      ],
      "text/plain": [
       "   Banana  Lemon  Lime  Mango  Peach  Pineapple\n",
       "0     3.0    2.0   3.0    5.0    3.0        3.0"
      ]
     },
     "execution_count": 123,
     "metadata": {},
     "output_type": "execute_result"
    }
   ],
   "source": [
    "new_user_6d.fillna(3)"
   ]
  },
  {
   "cell_type": "code",
   "execution_count": 122,
   "id": "0ae66333-8d77-4efc-b6e6-dcc80342d544",
   "metadata": {},
   "outputs": [
    {
     "data": {
      "text/plain": [
       "array([[ 7.71732809, -1.1256194 ]])"
      ]
     },
     "execution_count": 122,
     "metadata": {},
     "output_type": "execute_result"
    }
   ],
   "source": [
    "# transform the new user into a 2d space using our SVD model\n",
    "new_user_2d = svd.transform(new_user_6d.fillna(3))\n",
    "new_user_2d"
   ]
  },
  {
   "cell_type": "markdown",
   "id": "cf73ae7f-7772-4c80-964b-14d690070ea1",
   "metadata": {},
   "source": [
    "#### Step 3: Generate recommendations"
   ]
  },
  {
   "cell_type": "code",
   "execution_count": 124,
   "id": "d9c8b10d-e337-490b-8cd0-8767a4a5836c",
   "metadata": {},
   "outputs": [
    {
     "data": {
      "text/plain": [
       "array([[ 7.71732809, -1.1256194 ]])"
      ]
     },
     "execution_count": 124,
     "metadata": {},
     "output_type": "execute_result"
    }
   ],
   "source": [
    "# our new user\n",
    "new_user_2d"
   ]
  },
  {
   "cell_type": "code",
   "execution_count": 125,
   "id": "55be9c05-2d7a-4078-b0fb-96bda503ddf0",
   "metadata": {},
   "outputs": [
    {
     "data": {
      "text/plain": [
       "(1, 2)"
      ]
     },
     "execution_count": 125,
     "metadata": {},
     "output_type": "execute_result"
    }
   ],
   "source": [
    "# it's a 1x2 matrix\n",
    "new_user_2d.shape"
   ]
  },
  {
   "cell_type": "code",
   "execution_count": 126,
   "id": "0d29f91a-1e99-46c6-80a9-fd47b04b2ada",
   "metadata": {},
   "outputs": [
    {
     "data": {
      "text/plain": [
       "array([[ 0.42282328,  0.37639792,  0.37834394,  0.38195861,  0.44026026,  0.44348558],\n",
       "       [-0.46837309,  0.41936738,  0.46765486, -0.42664448, -0.28962047,  0.34662812]])"
      ]
     },
     "execution_count": 126,
     "metadata": {},
     "output_type": "execute_result"
    }
   ],
   "source": [
    "# our VT matrix\n",
    "svd.components_"
   ]
  },
  {
   "cell_type": "code",
   "execution_count": 127,
   "id": "927d5010-2068-475b-a8a3-51a2804bbb55",
   "metadata": {},
   "outputs": [
    {
     "data": {
      "text/plain": [
       "(2, 6)"
      ]
     },
     "execution_count": 127,
     "metadata": {},
     "output_type": "execute_result"
    }
   ],
   "source": [
    "# it's a 2x6 matrix\n",
    "svd.components_.shape"
   ]
  },
  {
   "cell_type": "code",
   "execution_count": 129,
   "id": "b214b29d-345c-4c18-a40d-ccbb8b7e432c",
   "metadata": {},
   "outputs": [
    {
     "data": {
      "text/plain": [
       "array([[3.79027584, 2.43273821, 2.39340291, 3.4279392 , 3.72363531, 3.03235241]])"
      ]
     },
     "execution_count": 129,
     "metadata": {},
     "output_type": "execute_result"
    }
   ],
   "source": [
    "# we want the output to be a 1x6 matrix to see all of their predicted ratings\n",
    "# 1x2 dot 2x6 = 1x6\n",
    "new_user_recs = np.dot(new_user_2d, svd.components_)\n",
    "new_user_recs   # approximation (if this user was actually in the original data)"
   ]
  },
  {
   "cell_type": "code",
   "execution_count": 130,
   "id": "07347225-c217-469a-b761-d5b69c57c0d5",
   "metadata": {},
   "outputs": [
    {
     "data": {
      "text/plain": [
       "(1, 6)"
      ]
     },
     "execution_count": 130,
     "metadata": {},
     "output_type": "execute_result"
    }
   ],
   "source": [
    "# it's a 1x6 matrix\n",
    "new_user_recs.shape"
   ]
  },
  {
   "cell_type": "code",
   "execution_count": 131,
   "id": "a3a40c56-82dd-440e-85c2-e0336873b5ea",
   "metadata": {},
   "outputs": [
    {
     "data": {
      "text/html": [
       "<div>\n",
       "<style scoped>\n",
       "    .dataframe tbody tr th:only-of-type {\n",
       "        vertical-align: middle;\n",
       "    }\n",
       "\n",
       "    .dataframe tbody tr th {\n",
       "        vertical-align: top;\n",
       "    }\n",
       "\n",
       "    .dataframe thead th {\n",
       "        text-align: right;\n",
       "    }\n",
       "</style>\n",
       "<table border=\"1\" class=\"dataframe\">\n",
       "  <thead>\n",
       "    <tr style=\"text-align: right;\">\n",
       "      <th></th>\n",
       "      <th>Banana</th>\n",
       "      <th>Lemon</th>\n",
       "      <th>Lime</th>\n",
       "      <th>Mango</th>\n",
       "      <th>Peach</th>\n",
       "      <th>Pineapple</th>\n",
       "    </tr>\n",
       "  </thead>\n",
       "  <tbody>\n",
       "    <tr>\n",
       "      <th>0</th>\n",
       "      <td>3.790276</td>\n",
       "      <td>2.432738</td>\n",
       "      <td>2.393403</td>\n",
       "      <td>3.427939</td>\n",
       "      <td>3.723635</td>\n",
       "      <td>3.032352</td>\n",
       "    </tr>\n",
       "  </tbody>\n",
       "</table>\n",
       "</div>"
      ],
      "text/plain": [
       "     Banana     Lemon      Lime     Mango     Peach  Pineapple\n",
       "0  3.790276  2.432738  2.393403  3.427939  3.723635   3.032352"
      ]
     },
     "execution_count": 131,
     "metadata": {},
     "output_type": "execute_result"
    }
   ],
   "source": [
    "# view the recommendations\n",
    "recs = pd.DataFrame(new_user_recs, columns=X.columns)\n",
    "recs"
   ]
  },
  {
   "cell_type": "code",
   "execution_count": 136,
   "id": "bdf1c29a-e45e-4190-b370-289a0891286b",
   "metadata": {},
   "outputs": [
    {
     "data": {
      "text/html": [
       "<div>\n",
       "<style scoped>\n",
       "    .dataframe tbody tr th:only-of-type {\n",
       "        vertical-align: middle;\n",
       "    }\n",
       "\n",
       "    .dataframe tbody tr th {\n",
       "        vertical-align: top;\n",
       "    }\n",
       "\n",
       "    .dataframe thead th {\n",
       "        text-align: right;\n",
       "    }\n",
       "</style>\n",
       "<table border=\"1\" class=\"dataframe\">\n",
       "  <thead>\n",
       "    <tr style=\"text-align: right;\">\n",
       "      <th></th>\n",
       "      <th>Recs</th>\n",
       "    </tr>\n",
       "  </thead>\n",
       "  <tbody>\n",
       "    <tr>\n",
       "      <th>Banana</th>\n",
       "      <td>3.790276</td>\n",
       "    </tr>\n",
       "    <tr>\n",
       "      <th>Peach</th>\n",
       "      <td>3.723635</td>\n",
       "    </tr>\n",
       "    <tr>\n",
       "      <th>Mango</th>\n",
       "      <td>3.427939</td>\n",
       "    </tr>\n",
       "    <tr>\n",
       "      <th>Pineapple</th>\n",
       "      <td>3.032352</td>\n",
       "    </tr>\n",
       "    <tr>\n",
       "      <th>Lemon</th>\n",
       "      <td>2.432738</td>\n",
       "    </tr>\n",
       "    <tr>\n",
       "      <th>Lime</th>\n",
       "      <td>2.393403</td>\n",
       "    </tr>\n",
       "  </tbody>\n",
       "</table>\n",
       "</div>"
      ],
      "text/plain": [
       "               Recs\n",
       "Banana     3.790276\n",
       "Peach      3.723635\n",
       "Mango      3.427939\n",
       "Pineapple  3.032352\n",
       "Lemon      2.432738\n",
       "Lime       2.393403"
      ]
     },
     "execution_count": 136,
     "metadata": {},
     "output_type": "execute_result"
    }
   ],
   "source": [
    "# sorted recommendations\n",
    "top_recs = recs.T.sort_values(0, ascending=False)\n",
    "top_recs.index.name = None\n",
    "top_recs.columns = ['Recs']\n",
    "top_recs"
   ]
  },
  {
   "cell_type": "code",
   "execution_count": 133,
   "id": "7782af08-7a87-42a7-a1ab-9bce6141b4fa",
   "metadata": {},
   "outputs": [
    {
     "data": {
      "text/plain": [
       "Index(['Lemon', 'Mango'], dtype='object')"
      ]
     },
     "execution_count": 133,
     "metadata": {},
     "output_type": "execute_result"
    }
   ],
   "source": [
    "# identify the already rated fruits\n",
    "already_rated = new_user_6d.T.dropna().index\n",
    "already_rated"
   ]
  },
  {
   "cell_type": "code",
   "execution_count": 134,
   "id": "78a85a98-270b-4f92-88f3-67d2402b6f96",
   "metadata": {},
   "outputs": [
    {
     "data": {
      "text/html": [
       "<div>\n",
       "<style scoped>\n",
       "    .dataframe tbody tr th:only-of-type {\n",
       "        vertical-align: middle;\n",
       "    }\n",
       "\n",
       "    .dataframe tbody tr th {\n",
       "        vertical-align: top;\n",
       "    }\n",
       "\n",
       "    .dataframe thead th {\n",
       "        text-align: right;\n",
       "    }\n",
       "</style>\n",
       "<table border=\"1\" class=\"dataframe\">\n",
       "  <thead>\n",
       "    <tr style=\"text-align: right;\">\n",
       "      <th></th>\n",
       "      <th>Recs</th>\n",
       "    </tr>\n",
       "  </thead>\n",
       "  <tbody>\n",
       "    <tr>\n",
       "      <th>Banana</th>\n",
       "      <td>3.790276</td>\n",
       "    </tr>\n",
       "    <tr>\n",
       "      <th>Peach</th>\n",
       "      <td>3.723635</td>\n",
       "    </tr>\n",
       "    <tr>\n",
       "      <th>Pineapple</th>\n",
       "      <td>3.032352</td>\n",
       "    </tr>\n",
       "    <tr>\n",
       "      <th>Lime</th>\n",
       "      <td>2.393403</td>\n",
       "    </tr>\n",
       "  </tbody>\n",
       "</table>\n",
       "</div>"
      ],
      "text/plain": [
       "               Recs\n",
       "Banana     3.790276\n",
       "Peach      3.723635\n",
       "Pineapple  3.032352\n",
       "Lime       2.393403"
      ]
     },
     "execution_count": 134,
     "metadata": {},
     "output_type": "execute_result"
    }
   ],
   "source": [
    "# exclude the already rated fruits\n",
    "top_recs[~top_recs.index.isin(already_rated)]"
   ]
  },
  {
   "cell_type": "markdown",
   "id": "45ef3410-2b11-4a23-a231-3dd703b1bc83",
   "metadata": {},
   "source": [
    "## 3. DEMO: Hybrid Recommender"
   ]
  },
  {
   "cell_type": "code",
   "execution_count": 137,
   "id": "23e976c0-d7c2-467f-a1e0-2ba0a8ba9b26",
   "metadata": {},
   "outputs": [
    {
     "data": {
      "text/html": [
       "<div>\n",
       "<style scoped>\n",
       "    .dataframe tbody tr th:only-of-type {\n",
       "        vertical-align: middle;\n",
       "    }\n",
       "\n",
       "    .dataframe tbody tr th {\n",
       "        vertical-align: top;\n",
       "    }\n",
       "\n",
       "    .dataframe thead th {\n",
       "        text-align: right;\n",
       "    }\n",
       "</style>\n",
       "<table border=\"1\" class=\"dataframe\">\n",
       "  <thead>\n",
       "    <tr style=\"text-align: right;\">\n",
       "      <th></th>\n",
       "      <th>Banana</th>\n",
       "      <th>Lemon</th>\n",
       "      <th>Lime</th>\n",
       "      <th>Mango</th>\n",
       "      <th>Peach</th>\n",
       "      <th>Pineapple</th>\n",
       "    </tr>\n",
       "  </thead>\n",
       "  <tbody>\n",
       "    <tr>\n",
       "      <th>0</th>\n",
       "      <td>NaN</td>\n",
       "      <td>2.0</td>\n",
       "      <td>NaN</td>\n",
       "      <td>5.0</td>\n",
       "      <td>NaN</td>\n",
       "      <td>NaN</td>\n",
       "    </tr>\n",
       "  </tbody>\n",
       "</table>\n",
       "</div>"
      ],
      "text/plain": [
       "   Banana  Lemon  Lime  Mango  Peach  Pineapple\n",
       "0     NaN    2.0   NaN    5.0    NaN        NaN"
      ]
     },
     "execution_count": 137,
     "metadata": {},
     "output_type": "execute_result"
    }
   ],
   "source": [
    "# view the new user\n",
    "new_user_6d"
   ]
  },
  {
   "cell_type": "code",
   "execution_count": 138,
   "id": "80bdbd99-213b-4690-92b9-3b0520a4e3a8",
   "metadata": {},
   "outputs": [
    {
     "data": {
      "text/html": [
       "<div>\n",
       "<style scoped>\n",
       "    .dataframe tbody tr th:only-of-type {\n",
       "        vertical-align: middle;\n",
       "    }\n",
       "\n",
       "    .dataframe tbody tr th {\n",
       "        vertical-align: top;\n",
       "    }\n",
       "\n",
       "    .dataframe thead th {\n",
       "        text-align: right;\n",
       "    }\n",
       "</style>\n",
       "<table border=\"1\" class=\"dataframe\">\n",
       "  <thead>\n",
       "    <tr style=\"text-align: right;\">\n",
       "      <th></th>\n",
       "      <th>Recs</th>\n",
       "    </tr>\n",
       "  </thead>\n",
       "  <tbody>\n",
       "    <tr>\n",
       "      <th>Banana</th>\n",
       "      <td>3.790276</td>\n",
       "    </tr>\n",
       "    <tr>\n",
       "      <th>Peach</th>\n",
       "      <td>3.723635</td>\n",
       "    </tr>\n",
       "    <tr>\n",
       "      <th>Mango</th>\n",
       "      <td>3.427939</td>\n",
       "    </tr>\n",
       "    <tr>\n",
       "      <th>Pineapple</th>\n",
       "      <td>3.032352</td>\n",
       "    </tr>\n",
       "    <tr>\n",
       "      <th>Lemon</th>\n",
       "      <td>2.432738</td>\n",
       "    </tr>\n",
       "    <tr>\n",
       "      <th>Lime</th>\n",
       "      <td>2.393403</td>\n",
       "    </tr>\n",
       "  </tbody>\n",
       "</table>\n",
       "</div>"
      ],
      "text/plain": [
       "               Recs\n",
       "Banana     3.790276\n",
       "Peach      3.723635\n",
       "Mango      3.427939\n",
       "Pineapple  3.032352\n",
       "Lemon      2.432738\n",
       "Lime       2.393403"
      ]
     },
     "execution_count": 138,
     "metadata": {},
     "output_type": "execute_result"
    }
   ],
   "source": [
    "# recommender 1: view the collaborative filtering recommendations\n",
    "top_recs"
   ]
  },
  {
   "cell_type": "code",
   "execution_count": 139,
   "id": "3df3870a-eb91-4a65-bbf3-78ec1c67745c",
   "metadata": {},
   "outputs": [
    {
     "data": {
      "text/html": [
       "<div>\n",
       "<style scoped>\n",
       "    .dataframe tbody tr th:only-of-type {\n",
       "        vertical-align: middle;\n",
       "    }\n",
       "\n",
       "    .dataframe tbody tr th {\n",
       "        vertical-align: top;\n",
       "    }\n",
       "\n",
       "    .dataframe thead th {\n",
       "        text-align: right;\n",
       "    }\n",
       "</style>\n",
       "<table border=\"1\" class=\"dataframe\">\n",
       "  <thead>\n",
       "    <tr style=\"text-align: right;\">\n",
       "      <th></th>\n",
       "      <th>Mango</th>\n",
       "    </tr>\n",
       "  </thead>\n",
       "  <tbody>\n",
       "    <tr>\n",
       "      <th>Mango</th>\n",
       "      <td>1.000000</td>\n",
       "    </tr>\n",
       "    <tr>\n",
       "      <th>Banana</th>\n",
       "      <td>0.986431</td>\n",
       "    </tr>\n",
       "    <tr>\n",
       "      <th>Peach</th>\n",
       "      <td>0.727398</td>\n",
       "    </tr>\n",
       "    <tr>\n",
       "      <th>Pineapple</th>\n",
       "      <td>0.611354</td>\n",
       "    </tr>\n",
       "    <tr>\n",
       "      <th>Lime</th>\n",
       "      <td>0.490409</td>\n",
       "    </tr>\n",
       "    <tr>\n",
       "      <th>Lemon</th>\n",
       "      <td>0.480902</td>\n",
       "    </tr>\n",
       "  </tbody>\n",
       "</table>\n",
       "</div>"
      ],
      "text/plain": [
       "              Mango\n",
       "Mango      1.000000\n",
       "Banana     0.986431\n",
       "Peach      0.727398\n",
       "Pineapple  0.611354\n",
       "Lime       0.490409\n",
       "Lemon      0.480902"
      ]
     },
     "execution_count": 139,
     "metadata": {},
     "output_type": "execute_result"
    }
   ],
   "source": [
    "# recommender 2: remember the content-based filtering recommender we created with sugar and vitamin c\n",
    "recommend_fruits_based_on_liking('Mango', cosine_df)"
   ]
  },
  {
   "cell_type": "code",
   "execution_count": 140,
   "id": "99f75e22-c162-402d-a5a6-7dce66167cd4",
   "metadata": {},
   "outputs": [
    {
     "data": {
      "text/html": [
       "<div>\n",
       "<style scoped>\n",
       "    .dataframe tbody tr th:only-of-type {\n",
       "        vertical-align: middle;\n",
       "    }\n",
       "\n",
       "    .dataframe tbody tr th {\n",
       "        vertical-align: top;\n",
       "    }\n",
       "\n",
       "    .dataframe thead th {\n",
       "        text-align: right;\n",
       "    }\n",
       "</style>\n",
       "<table border=\"1\" class=\"dataframe\">\n",
       "  <thead>\n",
       "    <tr style=\"text-align: right;\">\n",
       "      <th></th>\n",
       "      <th>Mango</th>\n",
       "    </tr>\n",
       "  </thead>\n",
       "  <tbody>\n",
       "    <tr>\n",
       "      <th>Mango</th>\n",
       "      <td>1.000000</td>\n",
       "    </tr>\n",
       "    <tr>\n",
       "      <th>Lime</th>\n",
       "      <td>0.952821</td>\n",
       "    </tr>\n",
       "    <tr>\n",
       "      <th>Peach</th>\n",
       "      <td>0.945803</td>\n",
       "    </tr>\n",
       "    <tr>\n",
       "      <th>Banana</th>\n",
       "      <td>0.924742</td>\n",
       "    </tr>\n",
       "    <tr>\n",
       "      <th>Pineapple</th>\n",
       "      <td>0.918046</td>\n",
       "    </tr>\n",
       "    <tr>\n",
       "      <th>Lemon</th>\n",
       "      <td>0.876507</td>\n",
       "    </tr>\n",
       "  </tbody>\n",
       "</table>\n",
       "</div>"
      ],
      "text/plain": [
       "              Mango\n",
       "Mango      1.000000\n",
       "Lime       0.952821\n",
       "Peach      0.945803\n",
       "Banana     0.924742\n",
       "Pineapple  0.918046\n",
       "Lemon      0.876507"
      ]
     },
     "execution_count": 140,
     "metadata": {},
     "output_type": "execute_result"
    }
   ],
   "source": [
    "# recommender 3: and the second one with all the nutritional values\n",
    "recommend_fruits_based_on_liking('Mango', cosine_all_df)"
   ]
  },
  {
   "cell_type": "code",
   "execution_count": 147,
   "id": "0fd4c50a-3494-43d9-ba43-2cc83b26fe5c",
   "metadata": {},
   "outputs": [
    {
     "data": {
      "text/html": [
       "<div>\n",
       "<style scoped>\n",
       "    .dataframe tbody tr th:only-of-type {\n",
       "        vertical-align: middle;\n",
       "    }\n",
       "\n",
       "    .dataframe tbody tr th {\n",
       "        vertical-align: top;\n",
       "    }\n",
       "\n",
       "    .dataframe thead th {\n",
       "        text-align: right;\n",
       "    }\n",
       "</style>\n",
       "<table border=\"1\" class=\"dataframe\">\n",
       "  <thead>\n",
       "    <tr style=\"text-align: right;\">\n",
       "      <th></th>\n",
       "      <th>Banana</th>\n",
       "      <th>Lemon</th>\n",
       "      <th>Lime</th>\n",
       "      <th>Mango</th>\n",
       "      <th>Peach</th>\n",
       "      <th>Pineapple</th>\n",
       "    </tr>\n",
       "  </thead>\n",
       "  <tbody>\n",
       "    <tr>\n",
       "      <th>user0</th>\n",
       "      <td>1.1</td>\n",
       "      <td>4.3</td>\n",
       "      <td>4.7</td>\n",
       "      <td>1.0</td>\n",
       "      <td>2.4</td>\n",
       "      <td>4.9</td>\n",
       "    </tr>\n",
       "    <tr>\n",
       "      <th>user1</th>\n",
       "      <td>1.2</td>\n",
       "      <td>4.6</td>\n",
       "      <td>4.5</td>\n",
       "      <td>1.3</td>\n",
       "      <td>2.1</td>\n",
       "      <td>4.8</td>\n",
       "    </tr>\n",
       "    <tr>\n",
       "      <th>user10</th>\n",
       "      <td>4.8</td>\n",
       "      <td>3.7</td>\n",
       "      <td>4.1</td>\n",
       "      <td>2.2</td>\n",
       "      <td>3.3</td>\n",
       "      <td>2.4</td>\n",
       "    </tr>\n",
       "    <tr>\n",
       "      <th>user11</th>\n",
       "      <td>2.5</td>\n",
       "      <td>2.9</td>\n",
       "      <td>3.7</td>\n",
       "      <td>4.1</td>\n",
       "      <td>1.8</td>\n",
       "      <td>4.1</td>\n",
       "    </tr>\n",
       "    <tr>\n",
       "      <th>user12</th>\n",
       "      <td>4.2</td>\n",
       "      <td>4.1</td>\n",
       "      <td>2.3</td>\n",
       "      <td>3.2</td>\n",
       "      <td>5.0</td>\n",
       "      <td>1.7</td>\n",
       "    </tr>\n",
       "  </tbody>\n",
       "</table>\n",
       "</div>"
      ],
      "text/plain": [
       "        Banana  Lemon  Lime  Mango  Peach  Pineapple\n",
       "user0      1.1    4.3   4.7    1.0    2.4        4.9\n",
       "user1      1.2    4.6   4.5    1.3    2.1        4.8\n",
       "user10     4.8    3.7   4.1    2.2    3.3        2.4\n",
       "user11     2.5    2.9   3.7    4.1    1.8        4.1\n",
       "user12     4.2    4.1   2.3    3.2    5.0        1.7"
      ]
     },
     "execution_count": 147,
     "metadata": {},
     "output_type": "execute_result"
    }
   ],
   "source": [
    "X.head()"
   ]
  },
  {
   "cell_type": "code",
   "execution_count": 141,
   "id": "b2068b5b-ddb2-4857-b732-abcf6c83ea51",
   "metadata": {},
   "outputs": [
    {
     "data": {
      "text/plain": [
       "Pineapple    3.45\n",
       "Peach        3.40\n",
       "Banana       3.24\n",
       "Lime         2.94\n",
       "Mango        2.93\n",
       "Lemon        2.92\n",
       "dtype: float64"
      ]
     },
     "execution_count": 141,
     "metadata": {},
     "output_type": "execute_result"
    }
   ],
   "source": [
    "# recommender 4: we can also rank fruits by ratings\n",
    "X.mean().sort_values(ascending=False)"
   ]
  },
  {
   "cell_type": "markdown",
   "id": "8b7af00f-52ed-4838-a79a-8dbacd2a4014",
   "metadata": {},
   "source": [
    "**We can create a hybrid recommender by combining these results**:\n",
    "* Collaborative filtering recommendations: bananas and peaches\n",
    "* Content-based filtering recommendations 1: bananas and peaches\n",
    "* Content-based filtering recommendations 2: limes and peaches\n",
    "* Top rating recommendations: pineapples and peaches\n",
    "\n",
    "Our top recommendations can be peaches and bananas, and see how the user interacts with our recommendations."
   ]
  },
  {
   "cell_type": "code",
   "execution_count": null,
   "id": "fc99389f-194b-4b11-9255-ebe02a0450ef",
   "metadata": {},
   "outputs": [],
   "source": []
  }
 ],
 "metadata": {
  "kernelspec": {
   "display_name": "Python 3 (ipykernel)",
   "language": "python",
   "name": "python3"
  },
  "language_info": {
   "codemirror_mode": {
    "name": "ipython",
    "version": 3
   },
   "file_extension": ".py",
   "mimetype": "text/x-python",
   "name": "python",
   "nbconvert_exporter": "python",
   "pygments_lexer": "ipython3",
   "version": "3.11.8"
  }
 },
 "nbformat": 4,
 "nbformat_minor": 5
}
